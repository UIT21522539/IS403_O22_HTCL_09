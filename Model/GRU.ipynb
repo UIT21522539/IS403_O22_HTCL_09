{
  "cells": [
    {
      "cell_type": "code",
      "execution_count": 5,
      "metadata": {
        "colab": {
          "base_uri": "https://localhost:8080/"
        },
        "id": "FMDKda-XIUAK",
        "outputId": "83f83310-8d4b-4925-a7d3-764d810f45e1"
      },
      "outputs": [],
      "source": [
        "# 1. Import thư viện cần thiết\n",
        "import numpy as np\n",
        "import pandas as pd\n",
        "import matplotlib.pyplot as plt\n",
        "from sklearn.preprocessing import MinMaxScaler\n",
        "from keras.models import Sequential\n",
        "from keras.layers import Dense, GRU"
      ]
    },
    {
      "cell_type": "code",
      "execution_count": 6,
      "metadata": {
        "id": "aRm9GQ8KJJ5N"
      },
      "outputs": [],
      "source": [
        "# 2. Đọc file csv và gắng index với giá Close\n",
        "df = pd.read_csv('../Dataset/ACB-Historical-Data_Group 9.csv')\n",
        "df1=df.reset_index()['Price']"
      ]
    },
    {
      "cell_type": "code",
      "execution_count": 7,
      "metadata": {},
      "outputs": [],
      "source": [
        "def convert_volume_to_number(volume_str):\n",
        "    if volume_str[-1] == 'K':\n",
        "        return int(float(volume_str[:-1]) * 1000)\n",
        "    elif volume_str[-1] == 'M':\n",
        "        return int(float(volume_str[:-1]) * 1000000)\n",
        "    elif volume_str[-1] == 'B':\n",
        "        return int(float(volume_str[:-1]) * 1000000000)\n",
        "    else:\n",
        "        return int(volume_str)\n",
        "    \n",
        "# Áp dụng hàm chuyển đổi cho cột \"Vol.\"\n",
        "df[\"Vol.\"] = df[\"Vol.\"].apply(convert_volume_to_number)\n",
        "\n",
        "# Hàm chuyển đổi \"Change %\" từ chuỗi sang số\n",
        "def convert_change_to_number(change_str):\n",
        "    new_change = float(change_str.strip('%')) / 100\n",
        "    return new_change\n",
        "\n",
        "# Áp dụng hàm chuyển đổi cho cột \"Change %\"\n",
        "df[\"Change %\"] = df[\"Change %\"].apply(convert_change_to_number)\n",
        "\n",
        "# Hàm chuyển giá từ chuỗi sang số\n",
        "def convert_str_to_number(str):\n",
        "    return float(str.replace(',', ''))\n",
        "\n",
        "# Áp dụng hàm chuyển đổi cho các cột giá trị\n",
        "df['Price'] = df['Price'].apply(convert_str_to_number)\n",
        "df['Open'] = df['Open'].apply(convert_str_to_number)\n",
        "df['High'] = df['High'].apply(convert_str_to_number)\n",
        "df['Low'] = df['Low'].apply(convert_str_to_number)"
      ]
    },
    {
      "cell_type": "code",
      "execution_count": 8,
      "metadata": {},
      "outputs": [],
      "source": [
        "df1=df.reset_index()['Price']"
      ]
    },
    {
      "cell_type": "code",
      "execution_count": 9,
      "metadata": {
        "id": "RdVpDho2JgL5"
      },
      "outputs": [],
      "source": [
        "# 3. Scaler data\n",
        "scaler=MinMaxScaler(feature_range=(0,1))\n",
        "df1=scaler.fit_transform(np.array(df1).reshape(-1,1))"
      ]
    },
    {
      "cell_type": "code",
      "execution_count": 10,
      "metadata": {
        "id": "B5JXpenzJoR3"
      },
      "outputs": [],
      "source": [
        "# 4. Chia train test\n",
        "train_size = int(0.7 * len(df1))\n",
        "test_size = int(0.2 * len(df1))\n",
        "val_size = len(df1) - train_size - test_size\n",
        "\n",
        "train_data = df1[:train_size]\n",
        "test_data = df1[train_size:train_size+test_size]\n",
        "val_data = df1[train_size+test_size:]"
      ]
    },
    {
      "cell_type": "code",
      "execution_count": 11,
      "metadata": {
        "id": "yJfmuBORLSfC"
      },
      "outputs": [],
      "source": [
        "# 5. Hàm Create Dataset\n",
        "import numpy\n",
        "# convert an array of values into a dataset matrix\n",
        "def create_dataset(dataset, time_step=1):\n",
        "\tdataX, dataY = [], []\n",
        "\tfor i in range(len(dataset)-time_step-1):\n",
        "\t\ta = dataset[i:(i+time_step), 0]   ###i=0, X=0,1,2,3-----99   Y=100 \n",
        "\t\tdataX.append(a)\n",
        "\t\tdataY.append(dataset[i + time_step, 0])\n",
        "\treturn numpy.array(dataX), numpy.array(dataY)"
      ]
    },
    {
      "cell_type": "code",
      "execution_count": 12,
      "metadata": {
        "id": "e81cKq03LXFB"
      },
      "outputs": [],
      "source": [
        "#6. Reshape into X=t,t+1,t+2..t+99 and Y=t+100\n",
        "\n",
        "time_step = 100\n",
        "X_train, y_train = create_dataset(train_data, time_step)\n",
        "X_val, yval = create_dataset(val_data, time_step)\n",
        "X_test, ytest = create_dataset(test_data, time_step)"
      ]
    },
    {
      "cell_type": "code",
      "execution_count": 13,
      "metadata": {
        "id": "RdBVfku7O2qb"
      },
      "outputs": [],
      "source": [
        "# 7. Reshape input to be [samples, time steps, features] which is required for LSTM\n",
        "X_train =X_train.reshape(X_train.shape[0],X_train.shape[1] , 1)\n",
        "X_test = X_test.reshape(X_test.shape[0],X_test.shape[1] , 1)\n",
        "X_val = X_val.reshape(X_val.shape[0],X_val.shape[1] , 1)"
      ]
    },
    {
      "cell_type": "code",
      "execution_count": 14,
      "metadata": {
        "id": "sSfxrE7BO9vX"
      },
      "outputs": [],
      "source": [
        "# 8. Define GRU Model\n",
        "\n",
        "model = Sequential()\n",
        "model.add(GRU(64, input_shape=(time_step, 1)))\n",
        "model.add(Dense(1))\n",
        "model.compile(optimizer='adam', loss='mean_squared_error')"
      ]
    },
    {
      "cell_type": "code",
      "execution_count": 15,
      "metadata": {
        "colab": {
          "base_uri": "https://localhost:8080/"
        },
        "id": "zgfeujZSPEKr",
        "outputId": "5479b5c5-22d1-4e02-8803-d6637b0f9e03"
      },
      "outputs": [
        {
          "name": "stdout",
          "output_type": "stream",
          "text": [
            "Epoch 1/100\n",
            "13/13 [==============================] - 3s 76ms/step - loss: 0.1338 - val_loss: 0.0096\n",
            "Epoch 2/100\n",
            "13/13 [==============================] - 1s 39ms/step - loss: 0.0183 - val_loss: 0.0030\n",
            "Epoch 3/100\n",
            "13/13 [==============================] - 0s 38ms/step - loss: 0.0088 - val_loss: 0.0057\n",
            "Epoch 4/100\n",
            "13/13 [==============================] - 1s 40ms/step - loss: 0.0059 - val_loss: 7.1721e-04\n",
            "Epoch 5/100\n",
            "13/13 [==============================] - 1s 44ms/step - loss: 0.0023 - val_loss: 6.6734e-04\n",
            "Epoch 6/100\n",
            "13/13 [==============================] - 0s 34ms/step - loss: 9.3867e-04 - val_loss: 6.6448e-04\n",
            "Epoch 7/100\n",
            "13/13 [==============================] - 0s 34ms/step - loss: 6.4942e-04 - val_loss: 7.2024e-04\n",
            "Epoch 8/100\n",
            "13/13 [==============================] - 0s 34ms/step - loss: 6.4589e-04 - val_loss: 6.8269e-04\n",
            "Epoch 9/100\n",
            "13/13 [==============================] - 0s 33ms/step - loss: 6.2651e-04 - val_loss: 6.5025e-04\n",
            "Epoch 10/100\n",
            "13/13 [==============================] - 0s 33ms/step - loss: 6.0227e-04 - val_loss: 6.5474e-04\n",
            "Epoch 11/100\n",
            "13/13 [==============================] - 0s 33ms/step - loss: 5.9546e-04 - val_loss: 6.2218e-04\n",
            "Epoch 12/100\n",
            "13/13 [==============================] - 0s 34ms/step - loss: 5.9121e-04 - val_loss: 6.1123e-04\n",
            "Epoch 13/100\n",
            "13/13 [==============================] - 0s 35ms/step - loss: 5.7903e-04 - val_loss: 6.1767e-04\n",
            "Epoch 14/100\n",
            "13/13 [==============================] - 0s 33ms/step - loss: 5.6751e-04 - val_loss: 6.1209e-04\n",
            "Epoch 15/100\n",
            "13/13 [==============================] - 0s 34ms/step - loss: 5.7399e-04 - val_loss: 5.8439e-04\n",
            "Epoch 16/100\n",
            "13/13 [==============================] - 0s 33ms/step - loss: 5.5766e-04 - val_loss: 5.9161e-04\n",
            "Epoch 17/100\n",
            "13/13 [==============================] - 0s 32ms/step - loss: 5.4886e-04 - val_loss: 5.7395e-04\n",
            "Epoch 18/100\n",
            "13/13 [==============================] - 0s 34ms/step - loss: 5.3570e-04 - val_loss: 5.9285e-04\n",
            "Epoch 19/100\n",
            "13/13 [==============================] - 0s 34ms/step - loss: 5.3131e-04 - val_loss: 5.9530e-04\n",
            "Epoch 20/100\n",
            "13/13 [==============================] - 0s 34ms/step - loss: 5.2877e-04 - val_loss: 5.5781e-04\n",
            "Epoch 21/100\n",
            "13/13 [==============================] - 0s 34ms/step - loss: 5.2561e-04 - val_loss: 5.4901e-04\n",
            "Epoch 22/100\n",
            "13/13 [==============================] - 0s 33ms/step - loss: 5.5258e-04 - val_loss: 5.8002e-04\n",
            "Epoch 23/100\n",
            "13/13 [==============================] - 0s 35ms/step - loss: 5.0610e-04 - val_loss: 5.4521e-04\n",
            "Epoch 24/100\n",
            "13/13 [==============================] - 0s 33ms/step - loss: 5.0173e-04 - val_loss: 5.6762e-04\n",
            "Epoch 25/100\n",
            "13/13 [==============================] - 0s 33ms/step - loss: 5.0967e-04 - val_loss: 5.9529e-04\n",
            "Epoch 26/100\n",
            "13/13 [==============================] - 0s 33ms/step - loss: 4.9773e-04 - val_loss: 5.6344e-04\n",
            "Epoch 27/100\n",
            "13/13 [==============================] - 0s 32ms/step - loss: 4.9118e-04 - val_loss: 5.2156e-04\n",
            "Epoch 28/100\n",
            "13/13 [==============================] - 0s 31ms/step - loss: 4.9120e-04 - val_loss: 5.8820e-04\n",
            "Epoch 29/100\n",
            "13/13 [==============================] - 0s 31ms/step - loss: 4.9124e-04 - val_loss: 5.3798e-04\n",
            "Epoch 30/100\n",
            "13/13 [==============================] - 0s 32ms/step - loss: 4.8128e-04 - val_loss: 5.2543e-04\n",
            "Epoch 31/100\n",
            "13/13 [==============================] - 1s 41ms/step - loss: 4.8148e-04 - val_loss: 5.2285e-04\n",
            "Epoch 32/100\n",
            "13/13 [==============================] - 1s 47ms/step - loss: 4.8539e-04 - val_loss: 5.7295e-04\n",
            "Epoch 33/100\n",
            "13/13 [==============================] - 1s 47ms/step - loss: 4.7334e-04 - val_loss: 6.2004e-04\n",
            "Epoch 34/100\n",
            "13/13 [==============================] - 1s 49ms/step - loss: 5.0247e-04 - val_loss: 4.9999e-04\n",
            "Epoch 35/100\n",
            "13/13 [==============================] - 1s 45ms/step - loss: 4.6882e-04 - val_loss: 4.9849e-04\n",
            "Epoch 36/100\n",
            "13/13 [==============================] - 0s 31ms/step - loss: 4.6562e-04 - val_loss: 7.2997e-04\n",
            "Epoch 37/100\n",
            "13/13 [==============================] - 0s 32ms/step - loss: 4.8465e-04 - val_loss: 4.9670e-04\n",
            "Epoch 38/100\n",
            "13/13 [==============================] - 0s 32ms/step - loss: 4.5879e-04 - val_loss: 4.9506e-04\n",
            "Epoch 39/100\n",
            "13/13 [==============================] - 0s 37ms/step - loss: 4.6383e-04 - val_loss: 4.9027e-04\n",
            "Epoch 40/100\n",
            "13/13 [==============================] - 0s 33ms/step - loss: 4.5536e-04 - val_loss: 5.0012e-04\n",
            "Epoch 41/100\n",
            "13/13 [==============================] - 0s 32ms/step - loss: 4.4451e-04 - val_loss: 4.8518e-04\n",
            "Epoch 42/100\n",
            "13/13 [==============================] - 0s 33ms/step - loss: 4.4196e-04 - val_loss: 5.4650e-04\n",
            "Epoch 43/100\n",
            "13/13 [==============================] - 0s 32ms/step - loss: 4.7512e-04 - val_loss: 4.8232e-04\n",
            "Epoch 44/100\n",
            "13/13 [==============================] - 0s 33ms/step - loss: 4.3720e-04 - val_loss: 5.0169e-04\n",
            "Epoch 45/100\n",
            "13/13 [==============================] - 1s 44ms/step - loss: 4.4286e-04 - val_loss: 4.7882e-04\n",
            "Epoch 46/100\n",
            "13/13 [==============================] - 0s 35ms/step - loss: 4.5095e-04 - val_loss: 4.8682e-04\n",
            "Epoch 47/100\n",
            "13/13 [==============================] - 0s 31ms/step - loss: 4.3478e-04 - val_loss: 5.5782e-04\n",
            "Epoch 48/100\n",
            "13/13 [==============================] - 0s 34ms/step - loss: 4.3046e-04 - val_loss: 5.0894e-04\n",
            "Epoch 49/100\n",
            "13/13 [==============================] - 0s 31ms/step - loss: 4.2861e-04 - val_loss: 4.8019e-04\n",
            "Epoch 50/100\n",
            "13/13 [==============================] - 0s 31ms/step - loss: 4.2339e-04 - val_loss: 5.5607e-04\n",
            "Epoch 51/100\n",
            "13/13 [==============================] - 0s 32ms/step - loss: 4.3235e-04 - val_loss: 4.7866e-04\n",
            "Epoch 52/100\n",
            "13/13 [==============================] - 0s 32ms/step - loss: 4.3670e-04 - val_loss: 4.6799e-04\n",
            "Epoch 53/100\n",
            "13/13 [==============================] - 0s 32ms/step - loss: 4.4000e-04 - val_loss: 4.7885e-04\n",
            "Epoch 54/100\n",
            "13/13 [==============================] - 0s 38ms/step - loss: 4.2310e-04 - val_loss: 4.8635e-04\n",
            "Epoch 55/100\n",
            "13/13 [==============================] - 0s 36ms/step - loss: 4.2043e-04 - val_loss: 4.6899e-04\n",
            "Epoch 56/100\n",
            "13/13 [==============================] - 0s 32ms/step - loss: 4.2113e-04 - val_loss: 4.6705e-04\n",
            "Epoch 57/100\n",
            "13/13 [==============================] - 0s 31ms/step - loss: 4.3182e-04 - val_loss: 4.6358e-04\n",
            "Epoch 58/100\n",
            "13/13 [==============================] - 0s 31ms/step - loss: 4.3898e-04 - val_loss: 6.3395e-04\n",
            "Epoch 59/100\n",
            "13/13 [==============================] - 0s 39ms/step - loss: 4.6578e-04 - val_loss: 5.3773e-04\n",
            "Epoch 60/100\n",
            "13/13 [==============================] - 0s 39ms/step - loss: 4.2365e-04 - val_loss: 5.8024e-04\n",
            "Epoch 61/100\n",
            "13/13 [==============================] - 1s 42ms/step - loss: 4.8490e-04 - val_loss: 4.6104e-04\n",
            "Epoch 62/100\n",
            "13/13 [==============================] - 0s 34ms/step - loss: 4.0598e-04 - val_loss: 5.1874e-04\n",
            "Epoch 63/100\n",
            "13/13 [==============================] - 0s 38ms/step - loss: 4.1949e-04 - val_loss: 5.8323e-04\n",
            "Epoch 64/100\n",
            "13/13 [==============================] - 0s 37ms/step - loss: 4.2801e-04 - val_loss: 4.5557e-04\n",
            "Epoch 65/100\n",
            "13/13 [==============================] - 0s 37ms/step - loss: 4.2805e-04 - val_loss: 4.9313e-04\n",
            "Epoch 66/100\n",
            "13/13 [==============================] - 0s 36ms/step - loss: 5.2438e-04 - val_loss: 4.6598e-04\n",
            "Epoch 67/100\n",
            "13/13 [==============================] - 0s 36ms/step - loss: 4.3383e-04 - val_loss: 5.0825e-04\n",
            "Epoch 68/100\n",
            "13/13 [==============================] - 0s 35ms/step - loss: 4.0035e-04 - val_loss: 4.6585e-04\n",
            "Epoch 69/100\n",
            "13/13 [==============================] - 0s 36ms/step - loss: 4.0206e-04 - val_loss: 4.9271e-04\n",
            "Epoch 70/100\n",
            "13/13 [==============================] - 0s 38ms/step - loss: 3.9971e-04 - val_loss: 4.9421e-04\n",
            "Epoch 71/100\n",
            "13/13 [==============================] - 0s 35ms/step - loss: 4.0189e-04 - val_loss: 5.0750e-04\n",
            "Epoch 72/100\n",
            "13/13 [==============================] - 0s 36ms/step - loss: 4.0034e-04 - val_loss: 4.7427e-04\n",
            "Epoch 73/100\n",
            "13/13 [==============================] - 1s 48ms/step - loss: 3.9383e-04 - val_loss: 5.1724e-04\n",
            "Epoch 74/100\n",
            "13/13 [==============================] - 1s 47ms/step - loss: 3.9782e-04 - val_loss: 5.1570e-04\n",
            "Epoch 75/100\n",
            "13/13 [==============================] - 1s 55ms/step - loss: 3.9052e-04 - val_loss: 4.5273e-04\n",
            "Epoch 76/100\n",
            "13/13 [==============================] - 1s 38ms/step - loss: 3.9464e-04 - val_loss: 4.6411e-04\n",
            "Epoch 77/100\n",
            "13/13 [==============================] - 0s 36ms/step - loss: 3.9934e-04 - val_loss: 4.4882e-04\n",
            "Epoch 78/100\n",
            "13/13 [==============================] - 0s 37ms/step - loss: 3.9812e-04 - val_loss: 4.4768e-04\n",
            "Epoch 79/100\n",
            "13/13 [==============================] - 0s 35ms/step - loss: 3.9046e-04 - val_loss: 5.1361e-04\n",
            "Epoch 80/100\n",
            "13/13 [==============================] - 0s 36ms/step - loss: 4.0290e-04 - val_loss: 5.3336e-04\n",
            "Epoch 81/100\n",
            "13/13 [==============================] - 0s 36ms/step - loss: 3.9255e-04 - val_loss: 4.8088e-04\n",
            "Epoch 82/100\n",
            "13/13 [==============================] - 1s 40ms/step - loss: 3.8529e-04 - val_loss: 4.5296e-04\n",
            "Epoch 83/100\n",
            "13/13 [==============================] - 0s 35ms/step - loss: 4.5614e-04 - val_loss: 4.6925e-04\n",
            "Epoch 84/100\n",
            "13/13 [==============================] - 0s 36ms/step - loss: 3.9064e-04 - val_loss: 4.5832e-04\n",
            "Epoch 85/100\n",
            "13/13 [==============================] - 0s 36ms/step - loss: 3.9836e-04 - val_loss: 4.4676e-04\n",
            "Epoch 86/100\n",
            "13/13 [==============================] - 0s 35ms/step - loss: 3.9551e-04 - val_loss: 4.6269e-04\n",
            "Epoch 87/100\n",
            "13/13 [==============================] - 0s 35ms/step - loss: 3.8856e-04 - val_loss: 4.7178e-04\n",
            "Epoch 88/100\n",
            "13/13 [==============================] - 1s 44ms/step - loss: 3.8520e-04 - val_loss: 4.6331e-04\n",
            "Epoch 89/100\n",
            "13/13 [==============================] - 1s 52ms/step - loss: 3.8195e-04 - val_loss: 5.2633e-04\n",
            "Epoch 90/100\n",
            "13/13 [==============================] - 0s 37ms/step - loss: 4.2838e-04 - val_loss: 5.2319e-04\n",
            "Epoch 91/100\n",
            "13/13 [==============================] - 0s 35ms/step - loss: 4.0349e-04 - val_loss: 6.3192e-04\n",
            "Epoch 92/100\n",
            "13/13 [==============================] - 0s 37ms/step - loss: 3.9696e-04 - val_loss: 6.4503e-04\n",
            "Epoch 93/100\n",
            "13/13 [==============================] - 0s 36ms/step - loss: 4.2950e-04 - val_loss: 6.5473e-04\n",
            "Epoch 94/100\n",
            "13/13 [==============================] - 0s 39ms/step - loss: 4.2873e-04 - val_loss: 4.5552e-04\n",
            "Epoch 95/100\n",
            "13/13 [==============================] - 0s 37ms/step - loss: 3.9586e-04 - val_loss: 4.4797e-04\n",
            "Epoch 96/100\n",
            "13/13 [==============================] - 0s 35ms/step - loss: 3.8354e-04 - val_loss: 4.4194e-04\n",
            "Epoch 97/100\n",
            "13/13 [==============================] - 1s 47ms/step - loss: 3.7786e-04 - val_loss: 5.0551e-04\n",
            "Epoch 98/100\n",
            "13/13 [==============================] - 1s 52ms/step - loss: 4.0027e-04 - val_loss: 5.0273e-04\n",
            "Epoch 99/100\n",
            "13/13 [==============================] - 0s 36ms/step - loss: 3.8893e-04 - val_loss: 4.5019e-04\n",
            "Epoch 100/100\n",
            "13/13 [==============================] - 0s 35ms/step - loss: 3.8145e-04 - val_loss: 4.3593e-04\n"
          ]
        },
        {
          "data": {
            "text/plain": [
              "<keras.src.callbacks.History at 0x2607620da50>"
            ]
          },
          "execution_count": 15,
          "metadata": {},
          "output_type": "execute_result"
        }
      ],
      "source": [
        "# 9. Fit mô hình với dữ liệu train\n",
        "model.fit(X_train,y_train,validation_data=(X_test,ytest),epochs=100,batch_size=64,verbose=1)"
      ]
    },
    {
      "cell_type": "code",
      "execution_count": 16,
      "metadata": {
        "colab": {
          "base_uri": "https://localhost:8080/"
        },
        "id": "Rxx_KQSkQpBG",
        "outputId": "cf0fb697-d4e6-4c79-9af8-47462ffe5053"
      },
      "outputs": [
        {
          "name": "stdout",
          "output_type": "stream",
          "text": [
            "25/25 [==============================] - 1s 7ms/step\n",
            "5/5 [==============================] - 0s 7ms/step\n",
            "1/1 [==============================] - 0s 30ms/step\n"
          ]
        }
      ],
      "source": [
        "# 10. Dự báo dữ liệu test, val\n",
        "train_predict=model.predict(X_train)\n",
        "y_pred=model.predict(X_test)\n",
        "y_pred_val=model.predict(X_val)"
      ]
    },
    {
      "cell_type": "code",
      "execution_count": 17,
      "metadata": {
        "id": "5rwTN10LQ7rj"
      },
      "outputs": [],
      "source": [
        "# 11. Chuẩn hóa dữ liệu y_pred, y_pred_val\n",
        "train_predict=scaler.inverse_transform(train_predict)\n",
        "y_pred=scaler.inverse_transform(y_pred)\n",
        "y_pred_val=scaler.inverse_transform(y_pred_val)"
      ]
    },
    {
      "cell_type": "code",
      "execution_count": 20,
      "metadata": {
        "colab": {
          "base_uri": "https://localhost:8080/"
        },
        "id": "izQZ1iQyYl6N",
        "outputId": "d8643a60-72e4-4ce0-a746-5337af266a98"
      },
      "outputs": [
        {
          "name": "stdout",
          "output_type": "stream",
          "text": [
            "[0.8752654]\n",
            "67\n",
            "[0.86940587]\n",
            "68\n",
            "[0.8636878]\n",
            "69\n",
            "[0.8581382]\n",
            "70\n",
            "[0.85275763]\n",
            "71\n",
            "[0.8475425]\n",
            "72\n",
            "[0.8424877]\n",
            "73\n",
            "[0.83758587]\n",
            "74\n",
            "[0.83283067]\n",
            "75\n",
            "[0.82821554]\n",
            "76\n",
            "[0.82373405]\n",
            "77\n",
            "[0.81938064]\n",
            "78\n",
            "[0.8151503]\n",
            "79\n",
            "[0.8110381]\n",
            "80\n",
            "[0.8070397]\n",
            "81\n",
            "[0.80315113]\n",
            "82\n",
            "[0.79936826]\n",
            "83\n",
            "[0.79568803]\n",
            "84\n",
            "[0.79210675]\n",
            "85\n",
            "[0.78862107]\n",
            "86\n",
            "[0.7852279]\n",
            "87\n",
            "[0.7819244]\n",
            "88\n",
            "[0.7787078]\n",
            "89\n",
            "[0.7755754]\n",
            "90\n",
            "[0.7725245]\n",
            "91\n",
            "[0.7695529]\n",
            "92\n",
            "[0.76665777]\n",
            "93\n",
            "[0.763837]\n",
            "94\n",
            "[0.7610883]\n",
            "95\n",
            "[0.7584096]\n",
            "96\n"
          ]
        }
      ],
      "source": [
        "x_input = val_data[60:].reshape(1, -1)\n",
        "x_input.shape\n",
        "\n",
        "temp_input = list(x_input)\n",
        "temp_input = temp_input[0].tolist()\n",
        "\n",
        "from numpy import array\n",
        "\n",
        "lst_output = []\n",
        "n_steps = 100\n",
        "i = 0\n",
        "\n",
        "while i < 30:\n",
        "    if len(temp_input) > 100:\n",
        "        # print(temp_input)\n",
        "        x_input = np.array(temp_input[-100:])  # Ensure x_input has exactly 100 elements\n",
        "        print(\"{} day input {}\".format(i, x_input))\n",
        "        x_input = x_input.reshape(1, -1)\n",
        "        x_input = x_input.reshape((1, n_steps, 1))\n",
        "        # print(x_input)\n",
        "        yhat = model.predict(x_input, verbose=0)\n",
        "        print(\"{} day output {}\".format(i, yhat))\n",
        "        temp_input.extend(yhat[0].tolist())\n",
        "        temp_input = temp_input[1:]\n",
        "        # print(temp_input)\n",
        "        lst_output.extend(yhat.tolist())\n",
        "        i = i + 1\n",
        "    else:\n",
        "        x_input = np.array(temp_input)  # Use the available elements\n",
        "        x_input = x_input.reshape((1, len(temp_input), 1))  # Reshape according to the actual length\n",
        "        yhat = model.predict(x_input, verbose=0)\n",
        "        print(yhat[0])\n",
        "        temp_input.extend(yhat[0].tolist())\n",
        "        print(len(temp_input))\n",
        "        lst_output.extend(yhat.tolist())\n",
        "        i = i + 1"
      ]
    },
    {
      "cell_type": "code",
      "execution_count": 21,
      "metadata": {
        "colab": {
          "base_uri": "https://localhost:8080/",
          "height": 430
        },
        "id": "KSa_mX51a654",
        "outputId": "a17abc33-966c-4a6a-c645-f142e7e9ffb3"
      },
      "outputs": [
        {
          "data": {
            "image/png": "[encoded data removed]",
            "text/plain": [
              "<Figure size 640x480 with 1 Axes>"
            ]
          },
          "metadata": {},
          "output_type": "display_data"
        }
      ],
      "source": [
        "# 14.Vẽ hình\n",
        "\n",
        "train_data_index = pd.RangeIndex(start=0, stop=train_size, step=1)\n",
        "plt.plot(scaler.inverse_transform(train_data))\n",
        "test_data_index = pd.RangeIndex(start=train_size, stop=train_size+test_size, step=1)\n",
        "plt.plot(test_data_index,scaler.inverse_transform(test_data))\n",
        "test_data_index = pd.RangeIndex(start=train_size+101, stop=train_size+test_size, step=1)\n",
        "plt.plot(test_data_index,(y_pred))\n",
        "val_data_index = pd.RangeIndex(start=train_size+test_size, stop=train_size+test_size+val_size, step=1)\n",
        "plt.plot(val_data_index,scaler.inverse_transform(val_data))\n",
        "val_data_index = pd.RangeIndex(start=train_size+test_size+101, stop=train_size+test_size+val_size, step=1)\n",
        "plt.plot(val_data_index,y_pred_val)\n",
        "prediect_data_index = pd.RangeIndex(start=len(df1)-1, stop=len(df1)+29, step=1)\n",
        "plt.plot(prediect_data_index,scaler.inverse_transform(lst_output))\n",
        "plt.legend(['Train','Test','Predict','Validate','ValidatePred','Predict30days'])\n",
        "plt.show()"
      ]
    },
    {
      "cell_type": "code",
      "execution_count": 22,
      "metadata": {},
      "outputs": [
        {
          "name": "stdout",
          "output_type": "stream",
          "text": [
            "Validation RMSE: 26684.77129023961\n",
            "Testing RMSE: 23732.762628808858\n",
            "Validation MAPE: 3174496.485163307\n",
            "Testing MAPE: 3457668.5554088596\n",
            "Validation MDA: 42.36111111111111\n",
            "Testing MDA: 43.18108195659216\n"
          ]
        }
      ],
      "source": [
        "import numpy as np\n",
        "\n",
        "# 12. Đánh giá độ chính xác thuật toán bằng RMSE\n",
        "valid_rmse = np.sqrt(np.mean((y_pred_val - yval)**2))\n",
        "test_rmse = np.sqrt(np.mean((y_pred - ytest)**2))\n",
        "print('Validation RMSE:', valid_rmse)\n",
        "print('Testing RMSE:', test_rmse)\n",
        "\n",
        "# Tính MAPE (Mean Absolute Percentage Error)\n",
        "valid_mape = np.mean(np.abs((yval - y_pred_val) / yval)) * 100\n",
        "test_mape = np.mean(np.abs((ytest - y_pred) / ytest)) * 100\n",
        "print('Validation MAPE:', valid_mape)\n",
        "print('Testing MAPE:', test_mape)\n",
        "\n",
        "# Tính MDA (Mean Directional Accuracy)\n",
        "valid_mda = np.mean(np.sign(yval[1:] - yval[:-1]) == np.sign(y_pred_val[1:] - y_pred_val[:-1])) * 100\n",
        "test_mda = np.mean(np.sign(ytest[1:] - ytest[:-1]) == np.sign(y_pred[1:] - y_pred[:-1])) * 100\n",
        "print('Validation MDA:', valid_mda)\n",
        "print('Testing MDA:', test_mda)\n"
      ]
    }
  ],
  "metadata": {
    "colab": {
      "provenance": []
    },
    "kernelspec": {
      "display_name": "Python 3",
      "name": "python3"
    },
    "language_info": {
      "codemirror_mode": {
        "name": "ipython",
        "version": 3
      },
      "file_extension": ".py",
      "mimetype": "text/x-python",
      "name": "python",
      "nbconvert_exporter": "python",
      "pygments_lexer": "ipython3",
      "version": "3.11.3"
    }
  },
  "nbformat": 4,
  "nbformat_minor": 0
}
