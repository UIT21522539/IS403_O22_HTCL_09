{
 "cells": [
  {
   "cell_type": "code",
   "execution_count": 43,
   "metadata": {},
   "outputs": [
    {
     "name": "stdout",
     "output_type": "stream",
     "text": [
      "The autoreload extension is already loaded. To reload it, use:\n",
      "  %reload_ext autoreload\n"
     ]
    }
   ],
   "source": [
    "%load_ext autoreload\n",
    "%autoreload 2\n",
    "%matplotlib inline\n",
    "import pandas as pd\n",
    "import numpy as np\n",
    "import matplotlib.pyplot as plt\n",
    "from darts import TimeSeries\n",
    "from darts.models import FFT\n",
    "from darts.metrics import mape,mae,rmse\n",
    "import warnings\n",
    "\n",
    "warnings.filterwarnings(\"ignore\")\n",
    "import logging\n",
    "\n",
    "logging.disable(logging.CRITICAL)"
   ]
  },
  {
   "cell_type": "code",
   "execution_count": 44,
   "metadata": {},
   "outputs": [
    {
     "data": {
      "text/html": [
       "<div>\n",
       "<style scoped>\n",
       "    .dataframe tbody tr th:only-of-type {\n",
       "        vertical-align: middle;\n",
       "    }\n",
       "\n",
       "    .dataframe tbody tr th {\n",
       "        vertical-align: top;\n",
       "    }\n",
       "\n",
       "    .dataframe thead th {\n",
       "        text-align: right;\n",
       "    }\n",
       "</style>\n",
       "<table border=\"1\" class=\"dataframe\">\n",
       "  <thead>\n",
       "    <tr style=\"text-align: right;\">\n",
       "      <th></th>\n",
       "      <th>Date</th>\n",
       "      <th>Price</th>\n",
       "    </tr>\n",
       "  </thead>\n",
       "  <tbody>\n",
       "    <tr>\n",
       "      <th>0</th>\n",
       "      <td>2024-03-01</td>\n",
       "      <td>97300.0</td>\n",
       "    </tr>\n",
       "    <tr>\n",
       "      <th>1</th>\n",
       "      <td>2024-02-29</td>\n",
       "      <td>97300.0</td>\n",
       "    </tr>\n",
       "    <tr>\n",
       "      <th>2</th>\n",
       "      <td>2024-02-28</td>\n",
       "      <td>97400.0</td>\n",
       "    </tr>\n",
       "    <tr>\n",
       "      <th>3</th>\n",
       "      <td>2024-02-27</td>\n",
       "      <td>91100.0</td>\n",
       "    </tr>\n",
       "    <tr>\n",
       "      <th>4</th>\n",
       "      <td>2024-02-26</td>\n",
       "      <td>89500.0</td>\n",
       "    </tr>\n",
       "    <tr>\n",
       "      <th>...</th>\n",
       "      <td>...</td>\n",
       "      <td>...</td>\n",
       "    </tr>\n",
       "    <tr>\n",
       "      <th>1247</th>\n",
       "      <td>2019-03-07</td>\n",
       "      <td>48456.0</td>\n",
       "    </tr>\n",
       "    <tr>\n",
       "      <th>1248</th>\n",
       "      <td>2019-03-06</td>\n",
       "      <td>48149.0</td>\n",
       "    </tr>\n",
       "    <tr>\n",
       "      <th>1249</th>\n",
       "      <td>2019-03-05</td>\n",
       "      <td>48379.0</td>\n",
       "    </tr>\n",
       "    <tr>\n",
       "      <th>1250</th>\n",
       "      <td>2019-03-04</td>\n",
       "      <td>48226.0</td>\n",
       "    </tr>\n",
       "    <tr>\n",
       "      <th>1251</th>\n",
       "      <td>2019-03-01</td>\n",
       "      <td>47765.0</td>\n",
       "    </tr>\n",
       "  </tbody>\n",
       "</table>\n",
       "<p>1252 rows × 2 columns</p>\n",
       "</div>"
      ],
      "text/plain": [
       "           Date    Price\n",
       "0    2024-03-01  97300.0\n",
       "1    2024-02-29  97300.0\n",
       "2    2024-02-28  97400.0\n",
       "3    2024-02-27  91100.0\n",
       "4    2024-02-26  89500.0\n",
       "...         ...      ...\n",
       "1247 2019-03-07  48456.0\n",
       "1248 2019-03-06  48149.0\n",
       "1249 2019-03-05  48379.0\n",
       "1250 2019-03-04  48226.0\n",
       "1251 2019-03-01  47765.0\n",
       "\n",
       "[1252 rows x 2 columns]"
      ]
     },
     "execution_count": 44,
     "metadata": {},
     "output_type": "execute_result"
    }
   ],
   "source": [
    "# 1. Data preprocessing\n",
    "df = pd.read_csv('../Dataset/VCB-Historical-Data_Group 9.csv')\n",
    "# df = df.iloc[::-1] \n",
    "df['Date'] = pd.to_datetime(df['Date'],format='mixed')\n",
    "df['Price'] = df['Price'].str.replace(',', '').astype(float)\n",
    "df = df[['Date','Price']]\n",
    "df"
   ]
  },
  {
   "cell_type": "code",
   "execution_count": 45,
   "metadata": {},
   "outputs": [],
   "source": [
    "df = df.dropna() # Drop missing values\n",
    "df = df.reset_index(drop=True) # Reset the index"
   ]
  },
  {
   "cell_type": "code",
   "execution_count": 46,
   "metadata": {},
   "outputs": [],
   "source": [
    "# 2. Prepare TimeSeries data\n",
    "ts = TimeSeries.from_dataframe(df,time_col='Date',value_cols='Price', freq='D')"
   ]
  },
  {
   "cell_type": "code",
   "execution_count": 47,
   "metadata": {},
   "outputs": [],
   "source": [
    "# 3. Split data into training and test sets\n",
    "\n",
    "total_length = len(ts)\n",
    "train_size = int(0.7 * total_length)\n",
    "\n",
    "train, test = ts.split_before(ts.time_index[train_size])\n"
   ]
  },
  {
   "cell_type": "code",
   "execution_count": 48,
   "metadata": {},
   "outputs": [],
   "source": [
    "# 4. Define and fit the FFT model on train set, then make predictions on test set\n",
    "fft_model = FFT(required_matches={'day'}, trend='exp')\n",
    "model_fit = fft_model.fit(train)\n",
    "\n",
    "y_pred = model_fit.predict(len(test))"
   ]
  },
  {
   "cell_type": "code",
   "execution_count": 49,
   "metadata": {},
   "outputs": [
    {
     "name": "stdout",
     "output_type": "stream",
     "text": [
      "Predicted closing prices for the next 30 days:\n",
      "[[100949.07789212]\n",
      " [100947.78967865]\n",
      " [100948.84295419]\n",
      " [100952.66022782]\n",
      " [100959.66119134]\n",
      " [100970.26112441]\n",
      " [100984.86930974]\n",
      " [101003.88746414]\n",
      " [101027.70819123]\n",
      " [101056.71346157]\n",
      " [101091.27312553]\n",
      " [101131.74346476]\n",
      " [101178.4657872 ]\n",
      " [101231.76507116]\n",
      " [101291.94866326]\n",
      " [101359.30503508]\n",
      " [101434.10260329]\n",
      " [101516.5886174 ]\n",
      " [101606.98811946]\n",
      " [101705.50297956]\n",
      " [101812.31101062]\n",
      " [101927.56516604]\n",
      " [102051.39282294]\n",
      " [102183.89515398]\n",
      " [102325.14659006]\n",
      " [102475.19437587]\n",
      " [102634.05822025]\n",
      " [102801.73004262]\n",
      " [102978.1738165 ]\n",
      " [103163.32551102]]\n"
     ]
    }
   ],
   "source": [
    "# 5. Predict for the next 30 days\n",
    "\n",
    "# Convert the date range to pandas datetimes\n",
    "next_30_days_index = pd.date_range(start=test.time_index[0] + pd.DateOffset(days=1), periods=len(test) + 30)\n",
    "x_30 = pd.to_datetime(next_30_days_index)\n",
    "\n",
    "# Predict the closing prices for the next 30 days\n",
    "y_next_30_days = model_fit.predict(len(x_30))\n",
    "y_next_30_days_trimmed = y_next_30_days[len(test):]\n",
    "\n",
    "y_pred_30 = TimeSeries.from_times_and_values(\n",
    "    times= next_30_days_index[len(test):],\n",
    "    values= y_next_30_days_trimmed.values(),\n",
    "    fill_missing_dates=True  \n",
    ")\n",
    "# Print the predicted closing prices for the next 30 days\n",
    "print('Predicted closing prices for the next 30 days:')\n",
    "print(y_next_30_days_trimmed.values())\n"
   ]
  },
  {
   "cell_type": "code",
   "execution_count": 51,
   "metadata": {},
   "outputs": [
    {
     "name": "stdout",
     "output_type": "stream",
     "text": [
      "Mean Absolute Percentage Error (MAPE): 9.671772849253081\n",
      "Mean Absolute Error (MAE): 8094.832356570769\n",
      "Root Mean Squared Error (RMSE): 9219.194725675343\n"
     ]
    }
   ],
   "source": [
    "# 6. Model evaluation\n",
    "mape_value = mape(test, y_pred)\n",
    "mae_value = mae(test, y_pred)\n",
    "rmse_value = rmse(test, y_pred)\n",
    "\n",
    "print(\"Mean Absolute Percentage Error (MAPE):\", mape_value)\n",
    "print(\"Mean Absolute Error (MAE):\", mae_value)\n",
    "print(\"Root Mean Squared Error (RMSE):\", rmse_value)\n"
   ]
  },
  {
   "cell_type": "code",
   "execution_count": 52,
   "metadata": {},
   "outputs": [
    {
     "data": {
      "text/plain": [
       "<Axes: xlabel='time'>"
      ]
     },
     "execution_count": 52,
     "metadata": {},
     "output_type": "execute_result"
    },
    {
     "data": {
      "image/png": "[encoded data removed]",
      "text/plain": [
       "<Figure size 640x480 with 1 Axes>"
      ]
     },
     "metadata": {},
     "output_type": "display_data"
    }
   ],
   "source": [
    "# 7. Plotting\n",
    "train.plot(label=\"train\")\n",
    "test.plot(label=\"test\")\n",
    "y_pred.plot(label=\"Predicted\")\n",
    "y_pred_30.plot(label=\"Next30Day\", color = 'r')\n"
   ]
  }
 ],
 "metadata": {
  "kernelspec": {
   "display_name": "Python 3",
   "language": "python",
   "name": "python3"
  },
  "language_info": {
   "codemirror_mode": {
    "name": "ipython",
    "version": 3
   },
   "file_extension": ".py",
   "mimetype": "text/x-python",
   "name": "python",
   "nbconvert_exporter": "python",
   "pygments_lexer": "ipython3",
   "version": "3.12.0"
  }
 },
 "nbformat": 4,
 "nbformat_minor": 2
}
