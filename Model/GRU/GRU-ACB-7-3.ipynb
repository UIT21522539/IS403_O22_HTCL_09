{
  "cells": [
    {
      "cell_type": "code",
      "execution_count": 1,
      "metadata": {
        "colab": {
          "base_uri": "https://localhost:8080/"
        },
        "id": "FMDKda-XIUAK",
        "outputId": "83f83310-8d4b-4925-a7d3-764d810f45e1"
      },
      "outputs": [],
      "source": [
        "# 1. Import thư viện cần thiết\n",
        "import numpy as np\n",
        "import pandas as pd\n",
        "import matplotlib.pyplot as plt\n",
        "from sklearn.preprocessing import MinMaxScaler\n",
        "from keras.models import Sequential\n",
        "from keras.layers import Dense, GRU\n",
        "from sklearn.metrics import mean_squared_error, mean_absolute_percentage_error"
      ]
    },
    {
      "cell_type": "code",
      "execution_count": 2,
      "metadata": {
        "id": "aRm9GQ8KJJ5N"
      },
      "outputs": [],
      "source": [
        "# 2. Đọc file csv và gắng index với giá Close\n",
        "df = pd.read_csv('../../Dataset/ACB-Historical-Data_Group-9.csv')\n",
        "df1=df.reset_index()['Price']"
      ]
    },
    {
      "cell_type": "code",
      "execution_count": 3,
      "metadata": {},
      "outputs": [],
      "source": [
        "# 3. Chuyển các giá trị trong cột về number\n",
        "def convert_volume_to_number(volume_str):\n",
        "    if volume_str[-1] == 'K':\n",
        "        return int(float(volume_str[:-1]) * 1000)\n",
        "    elif volume_str[-1] == 'M':\n",
        "        return int(float(volume_str[:-1]) * 1000000)\n",
        "    elif volume_str[-1] == 'B':\n",
        "        return int(float(volume_str[:-1]) * 1000000000)\n",
        "    else:\n",
        "        return int(volume_str)\n",
        "    \n",
        "# Áp dụng hàm chuyển đổi cho cột \"Vol.\"\n",
        "df[\"Vol.\"] = df[\"Vol.\"].apply(convert_volume_to_number)\n",
        "\n",
        "# Hàm chuyển đổi \"Change %\" từ chuỗi sang số\n",
        "def convert_change_to_number(change_str):\n",
        "    new_change = float(change_str.strip('%')) / 100\n",
        "    return new_change\n",
        "\n",
        "# Áp dụng hàm chuyển đổi cho cột \"Change %\"\n",
        "df[\"Change %\"] = df[\"Change %\"].apply(convert_change_to_number)\n",
        "\n",
        "# Hàm chuyển giá từ chuỗi sang số\n",
        "def convert_str_to_number(str):\n",
        "    return float(str.replace(',', ''))\n",
        "\n",
        "# Áp dụng hàm chuyển đổi cho các cột giá trị\n",
        "df['Price'] = df['Price'].apply(convert_str_to_number)\n",
        "df['Open'] = df['Open'].apply(convert_str_to_number)\n",
        "df['High'] = df['High'].apply(convert_str_to_number)\n",
        "df['Low'] = df['Low'].apply(convert_str_to_number)"
      ]
    },
    {
      "cell_type": "code",
      "execution_count": 4,
      "metadata": {},
      "outputs": [],
      "source": [
        "df1=df.reset_index()['Price']"
      ]
    },
    {
      "cell_type": "code",
      "execution_count": 5,
      "metadata": {
        "id": "RdVpDho2JgL5"
      },
      "outputs": [],
      "source": [
        "# 3. Scaler data\n",
        "scaler=MinMaxScaler(feature_range=(0,1))\n",
        "df1=scaler.fit_transform(np.array(df1).reshape(-1,1))"
      ]
    },
    {
      "cell_type": "code",
      "execution_count": 6,
      "metadata": {
        "id": "B5JXpenzJoR3"
      },
      "outputs": [],
      "source": [
        "# 4. Chia train test\n",
        "train_size = int(0.7 * len(df1))\n",
        "test_size = len(df1) - train_size\n",
        "\n",
        "train_data = df1[:train_size]\n",
        "test_data = df1[train_size:train_size+test_size]"
      ]
    },
    {
      "cell_type": "code",
      "execution_count": 7,
      "metadata": {
        "id": "yJfmuBORLSfC"
      },
      "outputs": [],
      "source": [
        "# 5. Hàm Create Dataset\n",
        "import numpy\n",
        "# convert an array of values into a dataset matrix\n",
        "def create_dataset(dataset, time_step=1):\n",
        "\tdataX, dataY = [], []\n",
        "\tfor i in range(len(dataset)-time_step-1):\n",
        "\t\ta = dataset[i:(i+time_step), 0]   ###i=0, X=0,1,2,3-----99   Y=100 \n",
        "\t\tdataX.append(a)\n",
        "\t\tdataY.append(dataset[i + time_step, 0])\n",
        "\treturn numpy.array(dataX), numpy.array(dataY)"
      ]
    },
    {
      "cell_type": "code",
      "execution_count": 8,
      "metadata": {
        "id": "e81cKq03LXFB"
      },
      "outputs": [],
      "source": [
        "#6. Reshape into X=t,t+1,t+2..t+99 and Y=t+100\n",
        "\n",
        "time_step = 30\n",
        "X_train, y_train = create_dataset(train_data, time_step)\n",
        "X_test, y_test = create_dataset(test_data, time_step)"
      ]
    },
    {
      "cell_type": "code",
      "execution_count": 9,
      "metadata": {
        "id": "RdBVfku7O2qb"
      },
      "outputs": [],
      "source": [
        "# 7. Reshape input to be [samples, time steps, features] which is required for LSTM\n",
        "X_train =X_train.reshape(X_train.shape[0],X_train.shape[1] , 1)\n",
        "X_test = X_test.reshape(X_test.shape[0],X_test.shape[1] , 1)"
      ]
    },
    {
      "cell_type": "code",
      "execution_count": 10,
      "metadata": {
        "id": "sSfxrE7BO9vX"
      },
      "outputs": [],
      "source": [
        "# 8. Define GRU Model\n",
        "\n",
        "model = Sequential()\n",
        "model.add(GRU(64, input_shape=(time_step, 1)))\n",
        "model.add(Dense(1))\n",
        "model.compile(optimizer='adam', loss='mean_squared_error')"
      ]
    },
    {
      "cell_type": "code",
      "execution_count": 11,
      "metadata": {},
      "outputs": [
        {
          "name": "stdout",
          "output_type": "stream",
          "text": [
            "Model: \"sequential\"\n",
            "_________________________________________________________________\n",
            " Layer (type)                Output Shape              Param #   \n",
            "=================================================================\n",
            " gru (GRU)                   (None, 64)                12864     \n",
            "                                                                 \n",
            " dense (Dense)               (None, 1)                 65        \n",
            "                                                                 \n",
            "=================================================================\n",
            "Total params: 12929 (50.50 KB)\n",
            "Trainable params: 12929 (50.50 KB)\n",
            "Non-trainable params: 0 (0.00 Byte)\n",
            "_________________________________________________________________\n"
          ]
        }
      ],
      "source": [
        "model.summary()"
      ]
    },
    {
      "cell_type": "code",
      "execution_count": 12,
      "metadata": {
        "colab": {
          "base_uri": "https://localhost:8080/"
        },
        "id": "zgfeujZSPEKr",
        "outputId": "5479b5c5-22d1-4e02-8803-d6637b0f9e03"
      },
      "outputs": [
        {
          "name": "stdout",
          "output_type": "stream",
          "text": [
            "Epoch 1/100\n",
            "14/14 [==============================] - 4s 51ms/step - loss: 0.0908 - val_loss: 0.0020\n",
            "Epoch 2/100\n",
            "14/14 [==============================] - 0s 16ms/step - loss: 0.0164 - val_loss: 0.0023\n",
            "Epoch 3/100\n",
            "14/14 [==============================] - 0s 15ms/step - loss: 0.0068 - val_loss: 0.0044\n",
            "Epoch 4/100\n",
            "14/14 [==============================] - 0s 19ms/step - loss: 0.0030 - val_loss: 6.1717e-04\n",
            "Epoch 5/100\n",
            "14/14 [==============================] - 0s 17ms/step - loss: 0.0013 - val_loss: 8.2388e-04\n",
            "Epoch 6/100\n",
            "14/14 [==============================] - 0s 18ms/step - loss: 8.0773e-04 - val_loss: 4.7387e-04\n",
            "Epoch 7/100\n",
            "14/14 [==============================] - 0s 19ms/step - loss: 7.6409e-04 - val_loss: 4.8696e-04\n",
            "Epoch 8/100\n",
            "14/14 [==============================] - 0s 18ms/step - loss: 7.3270e-04 - val_loss: 4.4699e-04\n",
            "Epoch 9/100\n",
            "14/14 [==============================] - 0s 18ms/step - loss: 7.1245e-04 - val_loss: 4.4960e-04\n",
            "Epoch 10/100\n",
            "14/14 [==============================] - 0s 17ms/step - loss: 7.0491e-04 - val_loss: 4.2945e-04\n",
            "Epoch 11/100\n",
            "14/14 [==============================] - 0s 17ms/step - loss: 6.8211e-04 - val_loss: 4.3704e-04\n",
            "Epoch 12/100\n",
            "14/14 [==============================] - 0s 18ms/step - loss: 6.7492e-04 - val_loss: 4.1670e-04\n",
            "Epoch 13/100\n",
            "14/14 [==============================] - 0s 16ms/step - loss: 6.6754e-04 - val_loss: 4.6611e-04\n",
            "Epoch 14/100\n",
            "14/14 [==============================] - 0s 16ms/step - loss: 6.4768e-04 - val_loss: 4.0545e-04\n",
            "Epoch 15/100\n",
            "14/14 [==============================] - 0s 17ms/step - loss: 6.3816e-04 - val_loss: 4.7318e-04\n",
            "Epoch 16/100\n",
            "14/14 [==============================] - 0s 17ms/step - loss: 6.3900e-04 - val_loss: 4.0520e-04\n",
            "Epoch 17/100\n",
            "14/14 [==============================] - 0s 22ms/step - loss: 6.2610e-04 - val_loss: 3.9600e-04\n",
            "Epoch 18/100\n",
            "14/14 [==============================] - 0s 20ms/step - loss: 6.0847e-04 - val_loss: 4.0740e-04\n",
            "Epoch 19/100\n",
            "14/14 [==============================] - 0s 18ms/step - loss: 6.2376e-04 - val_loss: 3.8621e-04\n",
            "Epoch 20/100\n",
            "14/14 [==============================] - 0s 20ms/step - loss: 5.9931e-04 - val_loss: 3.8763e-04\n",
            "Epoch 21/100\n",
            "14/14 [==============================] - 0s 18ms/step - loss: 6.1951e-04 - val_loss: 4.7075e-04\n",
            "Epoch 22/100\n",
            "14/14 [==============================] - 0s 17ms/step - loss: 5.8012e-04 - val_loss: 3.7980e-04\n",
            "Epoch 23/100\n",
            "14/14 [==============================] - 0s 17ms/step - loss: 5.7279e-04 - val_loss: 3.7714e-04\n",
            "Epoch 24/100\n",
            "14/14 [==============================] - 0s 16ms/step - loss: 5.6489e-04 - val_loss: 3.7158e-04\n",
            "Epoch 25/100\n",
            "14/14 [==============================] - 0s 21ms/step - loss: 5.6946e-04 - val_loss: 3.8514e-04\n",
            "Epoch 26/100\n",
            "14/14 [==============================] - 0s 19ms/step - loss: 5.6426e-04 - val_loss: 3.9909e-04\n",
            "Epoch 27/100\n",
            "14/14 [==============================] - 0s 17ms/step - loss: 5.5423e-04 - val_loss: 4.2898e-04\n",
            "Epoch 28/100\n",
            "14/14 [==============================] - 0s 18ms/step - loss: 5.6456e-04 - val_loss: 3.6446e-04\n",
            "Epoch 29/100\n",
            "14/14 [==============================] - 0s 16ms/step - loss: 5.5348e-04 - val_loss: 3.8426e-04\n",
            "Epoch 30/100\n",
            "14/14 [==============================] - 0s 18ms/step - loss: 5.4427e-04 - val_loss: 3.5763e-04\n",
            "Epoch 31/100\n",
            "14/14 [==============================] - 0s 16ms/step - loss: 5.4844e-04 - val_loss: 4.4042e-04\n",
            "Epoch 32/100\n",
            "14/14 [==============================] - 0s 20ms/step - loss: 5.4053e-04 - val_loss: 4.1162e-04\n",
            "Epoch 33/100\n",
            "14/14 [==============================] - 0s 16ms/step - loss: 5.3435e-04 - val_loss: 3.5261e-04\n",
            "Epoch 34/100\n",
            "14/14 [==============================] - 0s 16ms/step - loss: 5.2936e-04 - val_loss: 3.5067e-04\n",
            "Epoch 35/100\n",
            "14/14 [==============================] - 0s 18ms/step - loss: 5.1624e-04 - val_loss: 3.5051e-04\n",
            "Epoch 36/100\n",
            "14/14 [==============================] - 0s 18ms/step - loss: 5.1093e-04 - val_loss: 4.0777e-04\n",
            "Epoch 37/100\n",
            "14/14 [==============================] - 0s 21ms/step - loss: 5.2946e-04 - val_loss: 4.2675e-04\n",
            "Epoch 38/100\n",
            "14/14 [==============================] - 0s 29ms/step - loss: 5.0587e-04 - val_loss: 3.4566e-04\n",
            "Epoch 39/100\n",
            "14/14 [==============================] - 0s 19ms/step - loss: 5.0881e-04 - val_loss: 3.5678e-04\n",
            "Epoch 40/100\n",
            "14/14 [==============================] - 0s 17ms/step - loss: 5.0362e-04 - val_loss: 3.5203e-04\n",
            "Epoch 41/100\n",
            "14/14 [==============================] - 0s 18ms/step - loss: 4.9899e-04 - val_loss: 3.4733e-04\n",
            "Epoch 42/100\n",
            "14/14 [==============================] - 0s 19ms/step - loss: 5.0296e-04 - val_loss: 3.4341e-04\n",
            "Epoch 43/100\n",
            "14/14 [==============================] - 0s 18ms/step - loss: 4.8708e-04 - val_loss: 3.5235e-04\n",
            "Epoch 44/100\n",
            "14/14 [==============================] - 0s 18ms/step - loss: 4.8487e-04 - val_loss: 3.3766e-04\n",
            "Epoch 45/100\n",
            "14/14 [==============================] - 0s 17ms/step - loss: 4.8000e-04 - val_loss: 3.3608e-04\n",
            "Epoch 46/100\n",
            "14/14 [==============================] - 0s 19ms/step - loss: 4.7907e-04 - val_loss: 3.3831e-04\n",
            "Epoch 47/100\n",
            "14/14 [==============================] - 0s 19ms/step - loss: 4.8276e-04 - val_loss: 3.3410e-04\n",
            "Epoch 48/100\n",
            "14/14 [==============================] - 0s 17ms/step - loss: 4.7243e-04 - val_loss: 3.6021e-04\n",
            "Epoch 49/100\n",
            "14/14 [==============================] - 0s 16ms/step - loss: 4.7282e-04 - val_loss: 3.4207e-04\n",
            "Epoch 50/100\n",
            "14/14 [==============================] - 0s 16ms/step - loss: 4.9453e-04 - val_loss: 3.4052e-04\n",
            "Epoch 51/100\n",
            "14/14 [==============================] - 0s 17ms/step - loss: 4.8670e-04 - val_loss: 3.3128e-04\n",
            "Epoch 52/100\n",
            "14/14 [==============================] - 0s 20ms/step - loss: 4.8236e-04 - val_loss: 3.3036e-04\n",
            "Epoch 53/100\n",
            "14/14 [==============================] - 0s 17ms/step - loss: 4.8019e-04 - val_loss: 3.2904e-04\n",
            "Epoch 54/100\n",
            "14/14 [==============================] - 0s 15ms/step - loss: 4.6747e-04 - val_loss: 3.3128e-04\n",
            "Epoch 55/100\n",
            "14/14 [==============================] - 0s 16ms/step - loss: 4.6454e-04 - val_loss: 3.4391e-04\n",
            "Epoch 56/100\n",
            "14/14 [==============================] - 0s 24ms/step - loss: 4.8470e-04 - val_loss: 3.3827e-04\n",
            "Epoch 57/100\n",
            "14/14 [==============================] - 0s 17ms/step - loss: 5.0172e-04 - val_loss: 3.3436e-04\n",
            "Epoch 58/100\n",
            "14/14 [==============================] - 0s 15ms/step - loss: 4.6431e-04 - val_loss: 3.6030e-04\n",
            "Epoch 59/100\n",
            "14/14 [==============================] - 0s 14ms/step - loss: 4.8059e-04 - val_loss: 3.7728e-04\n",
            "Epoch 60/100\n",
            "14/14 [==============================] - 0s 18ms/step - loss: 4.7419e-04 - val_loss: 3.3340e-04\n",
            "Epoch 61/100\n",
            "14/14 [==============================] - 0s 18ms/step - loss: 4.5031e-04 - val_loss: 3.4117e-04\n",
            "Epoch 62/100\n",
            "14/14 [==============================] - 0s 19ms/step - loss: 4.5946e-04 - val_loss: 3.3613e-04\n",
            "Epoch 63/100\n",
            "14/14 [==============================] - 0s 17ms/step - loss: 4.5031e-04 - val_loss: 3.3558e-04\n",
            "Epoch 64/100\n",
            "14/14 [==============================] - 0s 16ms/step - loss: 4.5381e-04 - val_loss: 3.4270e-04\n",
            "Epoch 65/100\n",
            "14/14 [==============================] - 0s 18ms/step - loss: 4.4552e-04 - val_loss: 3.2079e-04\n",
            "Epoch 66/100\n",
            "14/14 [==============================] - 0s 18ms/step - loss: 4.9218e-04 - val_loss: 3.1977e-04\n",
            "Epoch 67/100\n",
            "14/14 [==============================] - 0s 17ms/step - loss: 4.6008e-04 - val_loss: 3.1979e-04\n",
            "Epoch 68/100\n",
            "14/14 [==============================] - 0s 16ms/step - loss: 4.4493e-04 - val_loss: 3.2030e-04\n",
            "Epoch 69/100\n",
            "14/14 [==============================] - 0s 17ms/step - loss: 4.3894e-04 - val_loss: 3.1823e-04\n",
            "Epoch 70/100\n",
            "14/14 [==============================] - 0s 17ms/step - loss: 4.5599e-04 - val_loss: 3.1718e-04\n",
            "Epoch 71/100\n",
            "14/14 [==============================] - 0s 23ms/step - loss: 4.3977e-04 - val_loss: 3.2413e-04\n",
            "Epoch 72/100\n",
            "14/14 [==============================] - 0s 18ms/step - loss: 4.3045e-04 - val_loss: 3.1629e-04\n",
            "Epoch 73/100\n",
            "14/14 [==============================] - 0s 15ms/step - loss: 4.3133e-04 - val_loss: 3.1702e-04\n",
            "Epoch 74/100\n",
            "14/14 [==============================] - 0s 14ms/step - loss: 4.2556e-04 - val_loss: 3.1549e-04\n",
            "Epoch 75/100\n",
            "14/14 [==============================] - 0s 14ms/step - loss: 4.3141e-04 - val_loss: 3.1474e-04\n",
            "Epoch 76/100\n",
            "14/14 [==============================] - 0s 15ms/step - loss: 4.4288e-04 - val_loss: 3.2721e-04\n",
            "Epoch 77/100\n",
            "14/14 [==============================] - 0s 22ms/step - loss: 4.2488e-04 - val_loss: 3.8679e-04\n",
            "Epoch 78/100\n",
            "14/14 [==============================] - 0s 15ms/step - loss: 4.3174e-04 - val_loss: 3.3236e-04\n",
            "Epoch 79/100\n",
            "14/14 [==============================] - 0s 15ms/step - loss: 4.3205e-04 - val_loss: 3.2950e-04\n",
            "Epoch 80/100\n",
            "14/14 [==============================] - 0s 16ms/step - loss: 4.2531e-04 - val_loss: 3.1295e-04\n",
            "Epoch 81/100\n",
            "14/14 [==============================] - 0s 15ms/step - loss: 4.1960e-04 - val_loss: 3.1278e-04\n",
            "Epoch 82/100\n",
            "14/14 [==============================] - 0s 21ms/step - loss: 4.1737e-04 - val_loss: 3.4646e-04\n",
            "Epoch 83/100\n",
            "14/14 [==============================] - 0s 15ms/step - loss: 4.3293e-04 - val_loss: 3.7829e-04\n",
            "Epoch 84/100\n",
            "14/14 [==============================] - 0s 15ms/step - loss: 4.3320e-04 - val_loss: 3.1119e-04\n",
            "Epoch 85/100\n",
            "14/14 [==============================] - 0s 14ms/step - loss: 4.2812e-04 - val_loss: 3.1944e-04\n",
            "Epoch 86/100\n",
            "14/14 [==============================] - 0s 14ms/step - loss: 4.1355e-04 - val_loss: 3.4983e-04\n",
            "Epoch 87/100\n",
            "14/14 [==============================] - 0s 17ms/step - loss: 4.2231e-04 - val_loss: 3.2879e-04\n",
            "Epoch 88/100\n",
            "14/14 [==============================] - 0s 16ms/step - loss: 4.1866e-04 - val_loss: 3.1384e-04\n",
            "Epoch 89/100\n",
            "14/14 [==============================] - 0s 17ms/step - loss: 4.4069e-04 - val_loss: 4.8590e-04\n",
            "Epoch 90/100\n",
            "14/14 [==============================] - 0s 14ms/step - loss: 4.3434e-04 - val_loss: 4.5033e-04\n",
            "Epoch 91/100\n",
            "14/14 [==============================] - 0s 13ms/step - loss: 4.3805e-04 - val_loss: 3.2805e-04\n",
            "Epoch 92/100\n",
            "14/14 [==============================] - 0s 13ms/step - loss: 4.1857e-04 - val_loss: 3.1125e-04\n",
            "Epoch 93/100\n",
            "14/14 [==============================] - 0s 15ms/step - loss: 4.3109e-04 - val_loss: 3.3665e-04\n",
            "Epoch 94/100\n",
            "14/14 [==============================] - 0s 15ms/step - loss: 4.2768e-04 - val_loss: 3.1278e-04\n",
            "Epoch 95/100\n",
            "14/14 [==============================] - 0s 14ms/step - loss: 4.0655e-04 - val_loss: 3.0845e-04\n",
            "Epoch 96/100\n",
            "14/14 [==============================] - 0s 14ms/step - loss: 4.1223e-04 - val_loss: 3.1645e-04\n",
            "Epoch 97/100\n",
            "14/14 [==============================] - 0s 20ms/step - loss: 4.0339e-04 - val_loss: 3.2998e-04\n",
            "Epoch 98/100\n",
            "14/14 [==============================] - 0s 15ms/step - loss: 4.0874e-04 - val_loss: 3.0799e-04\n",
            "Epoch 99/100\n",
            "14/14 [==============================] - 0s 13ms/step - loss: 4.0184e-04 - val_loss: 3.0732e-04\n",
            "Epoch 100/100\n",
            "14/14 [==============================] - 0s 14ms/step - loss: 3.9974e-04 - val_loss: 3.1044e-04\n"
          ]
        },
        {
          "data": {
            "text/plain": [
              "<keras.src.callbacks.History at 0x2bb8e4c3110>"
            ]
          },
          "execution_count": 12,
          "metadata": {},
          "output_type": "execute_result"
        }
      ],
      "source": [
        "# 9. Fit mô hình với dữ liệu train\n",
        "model.fit(X_train,y_train,validation_data=(X_test,y_test),epochs=100,batch_size=64,verbose=1)"
      ]
    },
    {
      "cell_type": "code",
      "execution_count": 13,
      "metadata": {
        "colab": {
          "base_uri": "https://localhost:8080/"
        },
        "id": "Rxx_KQSkQpBG",
        "outputId": "cf0fb697-d4e6-4c79-9af8-47462ffe5053"
      },
      "outputs": [
        {
          "name": "stdout",
          "output_type": "stream",
          "text": [
            "28/28 [==============================] - 0s 3ms/step\n",
            "12/12 [==============================] - 0s 3ms/step\n"
          ]
        }
      ],
      "source": [
        "# 10. Dự báo dữ liệu test\n",
        "train_predict=model.predict(X_train)\n",
        "y_pred=model.predict(X_test)\n"
      ]
    },
    {
      "cell_type": "code",
      "execution_count": 14,
      "metadata": {
        "id": "5rwTN10LQ7rj"
      },
      "outputs": [],
      "source": [
        "# 11. Chuẩn hóa dữ liệu y_pred, y_test\n",
        "train_predict=scaler.inverse_transform(train_predict)\n",
        "y_pred_=scaler.inverse_transform(y_pred)\n",
        "y_pred_new = scaler.inverse_transform(y_pred.reshape(1, -1))\n",
        "y_test_new = scaler.inverse_transform(np.array([y_test], dtype=np.float32))"
      ]
    },
    {
      "cell_type": "code",
      "execution_count": 15,
      "metadata": {
        "colab": {
          "base_uri": "https://localhost:8080/"
        },
        "id": "izQZ1iQyYl6N",
        "outputId": "d8643a60-72e4-4ce0-a746-5337af266a98"
      },
      "outputs": [],
      "source": [
        "# 12. Dự báo 30 ngày tiếp theo\n",
        "x_input = test_data[30:].reshape(1, -1)\n",
        "x_input.shape\n",
        "\n",
        "temp_input = list(x_input)\n",
        "temp_input = temp_input[0].tolist()\n",
        "\n",
        "from numpy import array\n",
        "\n",
        "lst_output_30 = []\n",
        "n_steps = 100\n",
        "i = 0\n",
        "\n",
        "while i < 30:\n",
        "    if len(temp_input) > 100:\n",
        "        # print(temp_input)\n",
        "        x_input = np.array(temp_input[-100:])  # Ensure x_input has exactly 100 elements\n",
        "        # print(\"{} day input {}\".format(i, x_input))\n",
        "        x_input = x_input.reshape(1, -1)\n",
        "        x_input = x_input.reshape((1, n_steps, 1))\n",
        "        # print(x_input)\n",
        "        yhat = model.predict(x_input, verbose=0)\n",
        "        # print(\"{} day output {}\".format(i, yhat))\n",
        "        temp_input.extend(yhat[0].tolist())\n",
        "        temp_input = temp_input[1:]\n",
        "        # print(temp_input)\n",
        "        lst_output_30.extend(yhat.tolist())\n",
        "        i = i + 1\n",
        "    else:\n",
        "        x_input = np.array(temp_input)  # Use the available elements\n",
        "        x_input = x_input.reshape((1, len(temp_input), 1))  # Reshape according to the actual length\n",
        "        yhat = model.predict(x_input, verbose=0)\n",
        "        # print(yhat[0])\n",
        "        temp_input.extend(yhat[0].tolist())\n",
        "        # print(len(temp_input))\n",
        "        lst_output_30.extend(yhat.tolist())\n",
        "        i = i + 1"
      ]
    },
    {
      "cell_type": "code",
      "execution_count": 16,
      "metadata": {},
      "outputs": [],
      "source": [
        "# 13. Dự báo 60 ngày tiếp theo \n",
        "\n",
        "x_input = test_data[60:].reshape(1, -1)\n",
        "x_input.shape\n",
        "\n",
        "temp_input = list(x_input)\n",
        "temp_input = temp_input[0].tolist()\n",
        "\n",
        "from numpy import array\n",
        "\n",
        "lst_output_60 = []\n",
        "n_steps = 100\n",
        "i = 0\n",
        "\n",
        "while i < 60:\n",
        "    if len(temp_input) > 100:\n",
        "        # print(temp_input)\n",
        "        x_input = np.array(temp_input[-100:])  # Ensure x_input has exactly 100 elements\n",
        "        # print(\"{} day input {}\".format(i, x_input))\n",
        "        x_input = x_input.reshape(1, -1)\n",
        "        x_input = x_input.reshape((1, n_steps, 1))\n",
        "        # print(x_input)\n",
        "        yhat = model.predict(x_input, verbose=0)\n",
        "        # print(\"{} day output {}\".format(i, yhat))\n",
        "        temp_input.extend(yhat[0].tolist())\n",
        "        temp_input = temp_input[1:]\n",
        "        # print(temp_input)\n",
        "        lst_output_60.extend(yhat.tolist())\n",
        "        i = i + 1\n",
        "    else:\n",
        "        x_input = np.array(temp_input)  # Use the available elements\n",
        "        x_input = x_input.reshape((1, len(temp_input), 1))  # Reshape according to the actual length\n",
        "        yhat = model.predict(x_input, verbose=0)\n",
        "        # print(yhat[0])\n",
        "        temp_input.extend(yhat[0].tolist())\n",
        "        # print(len(temp_input))\n",
        "        lst_output_60.extend(yhat.tolist())\n",
        "        i = i + 1"
      ]
    },
    {
      "cell_type": "code",
      "execution_count": 17,
      "metadata": {},
      "outputs": [],
      "source": [
        "# 14. Dự báo 90 ngày tiếp theo\n",
        "x_input = test_data[90:].reshape(1, -1)\n",
        "x_input.shape\n",
        "\n",
        "temp_input = list(x_input)\n",
        "temp_input = temp_input[0].tolist()\n",
        "\n",
        "from numpy import array\n",
        "\n",
        "lst_output_90 = []\n",
        "n_steps = 100\n",
        "i = 0\n",
        "\n",
        "while i < 90:\n",
        "    if len(temp_input) > 100:\n",
        "        # print(temp_input)\n",
        "        x_input = np.array(temp_input[-100:])  # Ensure x_input has exactly 100 elements\n",
        "        # print(\"{} day input {}\".format(i, x_input))\n",
        "        x_input = x_input.reshape(1, -1)\n",
        "        x_input = x_input.reshape((1, n_steps, 1))\n",
        "        # print(x_input)\n",
        "        yhat = model.predict(x_input, verbose=0)\n",
        "        # print(\"{} day output {}\".format(i, yhat))\n",
        "        temp_input.extend(yhat[0].tolist())\n",
        "        temp_input = temp_input[1:]\n",
        "        # print(temp_input)\n",
        "        lst_output_90.extend(yhat.tolist())\n",
        "        i = i + 1\n",
        "    else:\n",
        "        x_input = np.array(temp_input)  # Use the available elements\n",
        "        x_input = x_input.reshape((1, len(temp_input), 1))  # Reshape according to the actual length\n",
        "        yhat = model.predict(x_input, verbose=0)\n",
        "        # print(yhat[0])\n",
        "        temp_input.extend(yhat[0].tolist())\n",
        "        # print(len(temp_input))\n",
        "        lst_output_90.extend(yhat.tolist())\n",
        "        i = i + 1"
      ]
    },
    {
      "cell_type": "code",
      "execution_count": 18,
      "metadata": {},
      "outputs": [
        {
          "data": {
            "image/png": "[encoded data removed]",
            "text/plain": [
              "<Figure size 640x480 with 1 Axes>"
            ]
          },
          "metadata": {},
          "output_type": "display_data"
        }
      ],
      "source": [
        "# 15.Vẽ hình dự báo 90 ngày tiếp theo\n",
        "\n",
        "test_data_index = pd.RangeIndex(start=train_size, stop=train_size+test_size, step=1)\n",
        "plt.plot(test_data_index,scaler.inverse_transform(test_data))\n",
        "test_data_index = pd.RangeIndex(start=train_size+31, stop=train_size+test_size, step=1)\n",
        "plt.plot(test_data_index,(y_pred_))\n",
        "prediect_data_index = pd.RangeIndex(start=len(df1)-1, stop=len(df1)+89, step=1)\n",
        "plt.plot(prediect_data_index,scaler.inverse_transform(lst_output_90))\n",
        "prediect_data_index = pd.RangeIndex(start=len(df1)-1, stop=len(df1)+59, step=1)\n",
        "plt.plot(prediect_data_index,scaler.inverse_transform(lst_output_60))\n",
        "prediect_data_index = pd.RangeIndex(start=len(df1)-1, stop=len(df1)+29, step=1)\n",
        "plt.plot(prediect_data_index,scaler.inverse_transform(lst_output_30))\n",
        "plt.legend(['Test','Predict','Predict90days','Predict60days','Predict30days'])\n",
        "plt.show()"
      ]
    },
    {
      "cell_type": "code",
      "execution_count": 19,
      "metadata": {},
      "outputs": [
        {
          "name": "stdout",
          "output_type": "stream",
          "text": [
            "RMSE 380.52527\n",
            "MAPE 1.0507063008844852\n",
            "MAE: 244.95161\n"
          ]
        }
      ],
      "source": [
        "# 16.Đánh giá thuật toán\n",
        "\n",
        "# Tính toán RMSE, MAE và MAPE trên tập test\n",
        "test_score_rmse = np.sqrt(mean_squared_error(y_test_new, y_pred_new))\n",
        "test_score_mape = mean_absolute_percentage_error(y_test_new, y_pred_new) * 100\n",
        "\n",
        "print('RMSE', test_score_rmse)\n",
        "print('MAPE', test_score_mape)\n",
        "# Tính MAE (Mean Absolute Error)\n",
        "test_mae = np.mean(np.abs(y_test_new - y_pred_new))\n",
        "print('MAE:', test_mae)\n"
      ]
    }
  ],
  "metadata": {
    "colab": {
      "provenance": []
    },
    "kernelspec": {
      "display_name": "Python 3",
      "name": "python3"
    },
    "language_info": {
      "codemirror_mode": {
        "name": "ipython",
        "version": 3
      },
      "file_extension": ".py",
      "mimetype": "text/x-python",
      "name": "python",
      "nbconvert_exporter": "python",
      "pygments_lexer": "ipython3",
      "version": "3.11.3"
    }
  },
  "nbformat": 4,
  "nbformat_minor": 0
}
