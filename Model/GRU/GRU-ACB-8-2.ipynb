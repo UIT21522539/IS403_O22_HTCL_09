{
  "cells": [
    {
      "cell_type": "code",
      "execution_count": 1,
      "metadata": {
        "colab": {
          "base_uri": "https://localhost:8080/"
        },
        "id": "FMDKda-XIUAK",
        "outputId": "83f83310-8d4b-4925-a7d3-764d810f45e1"
      },
      "outputs": [],
      "source": [
        "# 1. Import thư viện cần thiết\n",
        "import numpy as np\n",
        "import pandas as pd\n",
        "import matplotlib.pyplot as plt\n",
        "from sklearn.preprocessing import MinMaxScaler\n",
        "from keras.models import Sequential\n",
        "from keras.layers import Dense, GRU\n",
        "from sklearn.metrics import mean_squared_error, mean_absolute_percentage_error"
      ]
    },
    {
      "cell_type": "code",
      "execution_count": 2,
      "metadata": {
        "id": "aRm9GQ8KJJ5N"
      },
      "outputs": [],
      "source": [
        "# 2. Đọc file csv và gắng index với giá Close\n",
        "df = pd.read_csv('../../Dataset/ACB-Historical-Data_Group-9.csv')\n",
        "df1=df.reset_index()['Price']"
      ]
    },
    {
      "cell_type": "code",
      "execution_count": 3,
      "metadata": {},
      "outputs": [],
      "source": [
        "# 3. Chuyển các giá trị trong cột về number\n",
        "def convert_volume_to_number(volume_str):\n",
        "    if volume_str[-1] == 'K':\n",
        "        return int(float(volume_str[:-1]) * 1000)\n",
        "    elif volume_str[-1] == 'M':\n",
        "        return int(float(volume_str[:-1]) * 1000000)\n",
        "    elif volume_str[-1] == 'B':\n",
        "        return int(float(volume_str[:-1]) * 1000000000)\n",
        "    else:\n",
        "        return int(volume_str)\n",
        "    \n",
        "# Áp dụng hàm chuyển đổi cho cột \"Vol.\"\n",
        "df[\"Vol.\"] = df[\"Vol.\"].apply(convert_volume_to_number)\n",
        "\n",
        "# Hàm chuyển đổi \"Change %\" từ chuỗi sang số\n",
        "def convert_change_to_number(change_str):\n",
        "    new_change = float(change_str.strip('%')) / 100\n",
        "    return new_change\n",
        "\n",
        "# Áp dụng hàm chuyển đổi cho cột \"Change %\"\n",
        "df[\"Change %\"] = df[\"Change %\"].apply(convert_change_to_number)\n",
        "\n",
        "# Hàm chuyển giá từ chuỗi sang số\n",
        "def convert_str_to_number(str):\n",
        "    return float(str.replace(',', ''))\n",
        "\n",
        "# Áp dụng hàm chuyển đổi cho các cột giá trị\n",
        "df['Price'] = df['Price'].apply(convert_str_to_number)\n",
        "df['Open'] = df['Open'].apply(convert_str_to_number)\n",
        "df['High'] = df['High'].apply(convert_str_to_number)\n",
        "df['Low'] = df['Low'].apply(convert_str_to_number)"
      ]
    },
    {
      "cell_type": "code",
      "execution_count": 4,
      "metadata": {},
      "outputs": [],
      "source": [
        "df1=df.reset_index()['Price']"
      ]
    },
    {
      "cell_type": "code",
      "execution_count": 5,
      "metadata": {
        "id": "RdVpDho2JgL5"
      },
      "outputs": [],
      "source": [
        "# 3. Scaler data\n",
        "scaler=MinMaxScaler(feature_range=(0,1))\n",
        "df1=scaler.fit_transform(np.array(df1).reshape(-1,1))"
      ]
    },
    {
      "cell_type": "code",
      "execution_count": 6,
      "metadata": {
        "id": "B5JXpenzJoR3"
      },
      "outputs": [],
      "source": [
        "# 4. Chia train test\n",
        "train_size = int(0.8 * len(df1))\n",
        "test_size = len(df1) - train_size\n",
        "\n",
        "train_data = df1[:train_size]\n",
        "test_data = df1[train_size:train_size+test_size]"
      ]
    },
    {
      "cell_type": "code",
      "execution_count": 7,
      "metadata": {
        "id": "yJfmuBORLSfC"
      },
      "outputs": [],
      "source": [
        "# 5. Hàm Create Dataset\n",
        "import numpy\n",
        "# convert an array of values into a dataset matrix\n",
        "def create_dataset(dataset, time_step=1):\n",
        "\tdataX, dataY = [], []\n",
        "\tfor i in range(len(dataset)-time_step-1):\n",
        "\t\ta = dataset[i:(i+time_step), 0]   ###i=0, X=0,1,2,3-----99   Y=100 \n",
        "\t\tdataX.append(a)\n",
        "\t\tdataY.append(dataset[i + time_step, 0])\n",
        "\treturn numpy.array(dataX), numpy.array(dataY)"
      ]
    },
    {
      "cell_type": "code",
      "execution_count": 8,
      "metadata": {
        "id": "e81cKq03LXFB"
      },
      "outputs": [],
      "source": [
        "#6. Reshape into X=t,t+1,t+2..t+99 and Y=t+100\n",
        "\n",
        "time_step = 30\n",
        "X_train, y_train = create_dataset(train_data, time_step)\n",
        "X_test, y_test = create_dataset(test_data, time_step)"
      ]
    },
    {
      "cell_type": "code",
      "execution_count": 9,
      "metadata": {
        "id": "RdBVfku7O2qb"
      },
      "outputs": [],
      "source": [
        "# 7. Reshape input to be [samples, time steps, features] which is required for LSTM\n",
        "X_train =X_train.reshape(X_train.shape[0],X_train.shape[1] , 1)\n",
        "X_test = X_test.reshape(X_test.shape[0],X_test.shape[1] , 1)"
      ]
    },
    {
      "cell_type": "code",
      "execution_count": 10,
      "metadata": {
        "id": "sSfxrE7BO9vX"
      },
      "outputs": [],
      "source": [
        "# 8. Define GRU Model\n",
        "\n",
        "model = Sequential()\n",
        "model.add(GRU(64, input_shape=(time_step, 1)))\n",
        "model.add(Dense(1))\n",
        "model.compile(optimizer='adam', loss='mean_squared_error')"
      ]
    },
    {
      "cell_type": "code",
      "execution_count": 11,
      "metadata": {},
      "outputs": [
        {
          "name": "stdout",
          "output_type": "stream",
          "text": [
            "Model: \"sequential\"\n",
            "_________________________________________________________________\n",
            " Layer (type)                Output Shape              Param #   \n",
            "=================================================================\n",
            " gru (GRU)                   (None, 64)                12864     \n",
            "                                                                 \n",
            " dense (Dense)               (None, 1)                 65        \n",
            "                                                                 \n",
            "=================================================================\n",
            "Total params: 12929 (50.50 KB)\n",
            "Trainable params: 12929 (50.50 KB)\n",
            "Non-trainable params: 0 (0.00 Byte)\n",
            "_________________________________________________________________\n"
          ]
        }
      ],
      "source": [
        "model.summary()"
      ]
    },
    {
      "cell_type": "code",
      "execution_count": 12,
      "metadata": {
        "colab": {
          "base_uri": "https://localhost:8080/"
        },
        "id": "zgfeujZSPEKr",
        "outputId": "5479b5c5-22d1-4e02-8803-d6637b0f9e03"
      },
      "outputs": [
        {
          "name": "stdout",
          "output_type": "stream",
          "text": [
            "Epoch 1/100\n",
            "16/16 [==============================] - 3s 55ms/step - loss: 0.0857 - val_loss: 0.0029\n",
            "Epoch 2/100\n",
            "16/16 [==============================] - 0s 20ms/step - loss: 0.0165 - val_loss: 0.0106\n",
            "Epoch 3/100\n",
            "16/16 [==============================] - 0s 14ms/step - loss: 0.0066 - val_loss: 0.0024\n",
            "Epoch 4/100\n",
            "16/16 [==============================] - 0s 16ms/step - loss: 0.0027 - val_loss: 0.0011\n",
            "Epoch 5/100\n",
            "16/16 [==============================] - 0s 16ms/step - loss: 0.0011 - val_loss: 5.3443e-04\n",
            "Epoch 6/100\n",
            "16/16 [==============================] - 0s 17ms/step - loss: 7.5700e-04 - val_loss: 5.8940e-04\n",
            "Epoch 7/100\n",
            "16/16 [==============================] - 0s 17ms/step - loss: 7.2335e-04 - val_loss: 5.2606e-04\n",
            "Epoch 8/100\n",
            "16/16 [==============================] - 0s 18ms/step - loss: 7.0078e-04 - val_loss: 5.1749e-04\n",
            "Epoch 9/100\n",
            "16/16 [==============================] - 0s 16ms/step - loss: 6.9012e-04 - val_loss: 5.2591e-04\n",
            "Epoch 10/100\n",
            "16/16 [==============================] - 0s 19ms/step - loss: 6.5666e-04 - val_loss: 4.9965e-04\n",
            "Epoch 11/100\n",
            "16/16 [==============================] - 0s 19ms/step - loss: 6.4393e-04 - val_loss: 5.4340e-04\n",
            "Epoch 12/100\n",
            "16/16 [==============================] - 0s 18ms/step - loss: 6.3433e-04 - val_loss: 4.9309e-04\n",
            "Epoch 13/100\n",
            "16/16 [==============================] - 0s 20ms/step - loss: 6.1923e-04 - val_loss: 4.8946e-04\n",
            "Epoch 14/100\n",
            "16/16 [==============================] - 0s 19ms/step - loss: 6.0974e-04 - val_loss: 4.7322e-04\n",
            "Epoch 15/100\n",
            "16/16 [==============================] - 0s 19ms/step - loss: 6.0347e-04 - val_loss: 4.8074e-04\n",
            "Epoch 16/100\n",
            "16/16 [==============================] - 0s 19ms/step - loss: 5.8634e-04 - val_loss: 4.8841e-04\n",
            "Epoch 17/100\n",
            "16/16 [==============================] - 0s 27ms/step - loss: 5.9380e-04 - val_loss: 4.9151e-04\n",
            "Epoch 18/100\n",
            "16/16 [==============================] - 0s 19ms/step - loss: 5.7118e-04 - val_loss: 5.3582e-04\n",
            "Epoch 19/100\n",
            "16/16 [==============================] - 0s 19ms/step - loss: 5.7515e-04 - val_loss: 4.5379e-04\n",
            "Epoch 20/100\n",
            "16/16 [==============================] - 0s 19ms/step - loss: 5.7592e-04 - val_loss: 4.4732e-04\n",
            "Epoch 21/100\n",
            "16/16 [==============================] - 0s 19ms/step - loss: 5.4643e-04 - val_loss: 4.4337e-04\n",
            "Epoch 22/100\n",
            "16/16 [==============================] - 0s 18ms/step - loss: 5.4616e-04 - val_loss: 4.3996e-04\n",
            "Epoch 23/100\n",
            "16/16 [==============================] - 0s 18ms/step - loss: 5.3598e-04 - val_loss: 4.3864e-04\n",
            "Epoch 24/100\n",
            "16/16 [==============================] - 0s 21ms/step - loss: 5.3135e-04 - val_loss: 4.3863e-04\n",
            "Epoch 25/100\n",
            "16/16 [==============================] - 0s 20ms/step - loss: 5.2550e-04 - val_loss: 4.3071e-04\n",
            "Epoch 26/100\n",
            "16/16 [==============================] - 0s 19ms/step - loss: 5.1698e-04 - val_loss: 4.2790e-04\n",
            "Epoch 27/100\n",
            "16/16 [==============================] - 0s 19ms/step - loss: 5.1366e-04 - val_loss: 4.6244e-04\n",
            "Epoch 28/100\n",
            "16/16 [==============================] - 0s 19ms/step - loss: 5.1012e-04 - val_loss: 4.5013e-04\n",
            "Epoch 29/100\n",
            "16/16 [==============================] - 0s 18ms/step - loss: 5.0967e-04 - val_loss: 4.3909e-04\n",
            "Epoch 30/100\n",
            "16/16 [==============================] - 0s 18ms/step - loss: 5.0088e-04 - val_loss: 4.1991e-04\n",
            "Epoch 31/100\n",
            "16/16 [==============================] - 0s 19ms/step - loss: 4.9007e-04 - val_loss: 4.3827e-04\n",
            "Epoch 32/100\n",
            "16/16 [==============================] - 0s 18ms/step - loss: 4.8348e-04 - val_loss: 4.2102e-04\n",
            "Epoch 33/100\n",
            "16/16 [==============================] - 0s 24ms/step - loss: 4.9968e-04 - val_loss: 4.6148e-04\n",
            "Epoch 34/100\n",
            "16/16 [==============================] - 0s 19ms/step - loss: 4.9343e-04 - val_loss: 4.1103e-04\n",
            "Epoch 35/100\n",
            "16/16 [==============================] - 0s 23ms/step - loss: 4.8133e-04 - val_loss: 4.1134e-04\n",
            "Epoch 36/100\n",
            "16/16 [==============================] - 0s 24ms/step - loss: 4.8536e-04 - val_loss: 4.1493e-04\n",
            "Epoch 37/100\n",
            "16/16 [==============================] - 0s 24ms/step - loss: 5.1714e-04 - val_loss: 4.1452e-04\n",
            "Epoch 38/100\n",
            "16/16 [==============================] - 1s 33ms/step - loss: 4.8323e-04 - val_loss: 4.1010e-04\n",
            "Epoch 39/100\n",
            "16/16 [==============================] - 0s 23ms/step - loss: 4.6121e-04 - val_loss: 4.0465e-04\n",
            "Epoch 40/100\n",
            "16/16 [==============================] - 0s 20ms/step - loss: 4.6005e-04 - val_loss: 4.1230e-04\n",
            "Epoch 41/100\n",
            "16/16 [==============================] - 0s 22ms/step - loss: 4.5669e-04 - val_loss: 4.4695e-04\n",
            "Epoch 42/100\n",
            "16/16 [==============================] - 0s 20ms/step - loss: 4.5655e-04 - val_loss: 4.0768e-04\n",
            "Epoch 43/100\n",
            "16/16 [==============================] - 0s 22ms/step - loss: 4.5379e-04 - val_loss: 4.2615e-04\n",
            "Epoch 44/100\n",
            "16/16 [==============================] - 0s 26ms/step - loss: 4.7812e-04 - val_loss: 4.1302e-04\n",
            "Epoch 45/100\n",
            "16/16 [==============================] - 0s 24ms/step - loss: 4.6398e-04 - val_loss: 3.9775e-04\n",
            "Epoch 46/100\n",
            "16/16 [==============================] - 0s 26ms/step - loss: 4.5447e-04 - val_loss: 3.9528e-04\n",
            "Epoch 47/100\n",
            "16/16 [==============================] - 0s 25ms/step - loss: 4.5441e-04 - val_loss: 4.8701e-04\n",
            "Epoch 48/100\n",
            "16/16 [==============================] - 0s 23ms/step - loss: 4.7450e-04 - val_loss: 3.9962e-04\n",
            "Epoch 49/100\n",
            "16/16 [==============================] - 0s 24ms/step - loss: 4.4105e-04 - val_loss: 4.1475e-04\n",
            "Epoch 50/100\n",
            "16/16 [==============================] - 0s 30ms/step - loss: 4.4962e-04 - val_loss: 3.9145e-04\n",
            "Epoch 51/100\n",
            "16/16 [==============================] - 0s 23ms/step - loss: 4.3921e-04 - val_loss: 4.1273e-04\n",
            "Epoch 52/100\n",
            "16/16 [==============================] - 0s 24ms/step - loss: 4.3276e-04 - val_loss: 3.9050e-04\n",
            "Epoch 53/100\n",
            "16/16 [==============================] - 0s 25ms/step - loss: 4.2995e-04 - val_loss: 3.9117e-04\n",
            "Epoch 54/100\n",
            "16/16 [==============================] - 0s 25ms/step - loss: 4.2981e-04 - val_loss: 3.8993e-04\n",
            "Epoch 55/100\n",
            "16/16 [==============================] - 0s 28ms/step - loss: 4.2839e-04 - val_loss: 3.8819e-04\n",
            "Epoch 56/100\n",
            "16/16 [==============================] - 1s 36ms/step - loss: 4.2642e-04 - val_loss: 3.8661e-04\n",
            "Epoch 57/100\n",
            "16/16 [==============================] - 1s 35ms/step - loss: 4.2600e-04 - val_loss: 4.0261e-04\n",
            "Epoch 58/100\n",
            "16/16 [==============================] - 0s 31ms/step - loss: 4.2800e-04 - val_loss: 4.0191e-04\n",
            "Epoch 59/100\n",
            "16/16 [==============================] - 0s 26ms/step - loss: 4.1980e-04 - val_loss: 3.8990e-04\n",
            "Epoch 60/100\n",
            "16/16 [==============================] - 0s 25ms/step - loss: 4.2103e-04 - val_loss: 3.9455e-04\n",
            "Epoch 61/100\n",
            "16/16 [==============================] - 0s 24ms/step - loss: 4.2737e-04 - val_loss: 3.9674e-04\n",
            "Epoch 62/100\n",
            "16/16 [==============================] - 0s 24ms/step - loss: 4.3150e-04 - val_loss: 3.8551e-04\n",
            "Epoch 63/100\n",
            "16/16 [==============================] - 0s 24ms/step - loss: 4.1567e-04 - val_loss: 3.8281e-04\n",
            "Epoch 64/100\n",
            "16/16 [==============================] - 0s 26ms/step - loss: 4.1896e-04 - val_loss: 4.8541e-04\n",
            "Epoch 65/100\n",
            "16/16 [==============================] - 0s 27ms/step - loss: 4.4036e-04 - val_loss: 3.8087e-04\n",
            "Epoch 66/100\n",
            "16/16 [==============================] - 0s 29ms/step - loss: 4.1215e-04 - val_loss: 3.8302e-04\n",
            "Epoch 67/100\n",
            "16/16 [==============================] - 0s 31ms/step - loss: 4.1473e-04 - val_loss: 4.2804e-04\n",
            "Epoch 68/100\n",
            "16/16 [==============================] - 0s 31ms/step - loss: 4.1893e-04 - val_loss: 4.6365e-04\n",
            "Epoch 69/100\n",
            "16/16 [==============================] - 0s 30ms/step - loss: 4.3087e-04 - val_loss: 3.8789e-04\n",
            "Epoch 70/100\n",
            "16/16 [==============================] - 0s 25ms/step - loss: 4.2036e-04 - val_loss: 3.8180e-04\n",
            "Epoch 71/100\n",
            "16/16 [==============================] - 0s 27ms/step - loss: 4.0375e-04 - val_loss: 3.7888e-04\n",
            "Epoch 72/100\n",
            "16/16 [==============================] - 1s 33ms/step - loss: 4.0485e-04 - val_loss: 3.8359e-04\n",
            "Epoch 73/100\n",
            "16/16 [==============================] - 1s 41ms/step - loss: 4.0797e-04 - val_loss: 3.7617e-04\n",
            "Epoch 74/100\n",
            "16/16 [==============================] - 0s 28ms/step - loss: 4.0654e-04 - val_loss: 3.9192e-04\n",
            "Epoch 75/100\n",
            "16/16 [==============================] - 0s 31ms/step - loss: 4.0682e-04 - val_loss: 4.0898e-04\n",
            "Epoch 76/100\n",
            "16/16 [==============================] - 0s 28ms/step - loss: 3.9814e-04 - val_loss: 4.0805e-04\n",
            "Epoch 77/100\n",
            "16/16 [==============================] - 0s 27ms/step - loss: 4.0386e-04 - val_loss: 3.7441e-04\n",
            "Epoch 78/100\n",
            "16/16 [==============================] - 0s 27ms/step - loss: 3.9972e-04 - val_loss: 4.2633e-04\n",
            "Epoch 79/100\n",
            "16/16 [==============================] - 0s 25ms/step - loss: 4.1793e-04 - val_loss: 4.1096e-04\n",
            "Epoch 80/100\n",
            "16/16 [==============================] - 0s 24ms/step - loss: 4.0481e-04 - val_loss: 3.7298e-04\n",
            "Epoch 81/100\n",
            "16/16 [==============================] - 0s 25ms/step - loss: 4.0332e-04 - val_loss: 4.0481e-04\n",
            "Epoch 82/100\n",
            "16/16 [==============================] - 0s 25ms/step - loss: 4.0160e-04 - val_loss: 3.7527e-04\n",
            "Epoch 83/100\n",
            "16/16 [==============================] - 0s 26ms/step - loss: 3.9283e-04 - val_loss: 3.7458e-04\n",
            "Epoch 84/100\n",
            "16/16 [==============================] - 0s 26ms/step - loss: 4.0705e-04 - val_loss: 3.7502e-04\n",
            "Epoch 85/100\n",
            "16/16 [==============================] - 0s 25ms/step - loss: 3.9288e-04 - val_loss: 3.7588e-04\n",
            "Epoch 86/100\n",
            "16/16 [==============================] - 0s 29ms/step - loss: 3.9266e-04 - val_loss: 3.8213e-04\n",
            "Epoch 87/100\n",
            "16/16 [==============================] - 0s 24ms/step - loss: 3.9920e-04 - val_loss: 3.9962e-04\n",
            "Epoch 88/100\n",
            "16/16 [==============================] - 1s 34ms/step - loss: 4.0448e-04 - val_loss: 3.7107e-04\n",
            "Epoch 89/100\n",
            "16/16 [==============================] - 0s 24ms/step - loss: 3.9227e-04 - val_loss: 3.8295e-04\n",
            "Epoch 90/100\n",
            "16/16 [==============================] - 0s 25ms/step - loss: 3.9204e-04 - val_loss: 3.7864e-04\n",
            "Epoch 91/100\n",
            "16/16 [==============================] - 0s 25ms/step - loss: 3.9124e-04 - val_loss: 3.6895e-04\n",
            "Epoch 92/100\n",
            "16/16 [==============================] - 0s 24ms/step - loss: 3.8954e-04 - val_loss: 4.0592e-04\n",
            "Epoch 93/100\n",
            "16/16 [==============================] - 0s 29ms/step - loss: 4.2622e-04 - val_loss: 3.6886e-04\n",
            "Epoch 94/100\n",
            "16/16 [==============================] - 0s 27ms/step - loss: 3.9779e-04 - val_loss: 3.7290e-04\n",
            "Epoch 95/100\n",
            "16/16 [==============================] - 0s 31ms/step - loss: 3.8303e-04 - val_loss: 3.7149e-04\n",
            "Epoch 96/100\n",
            "16/16 [==============================] - 1s 35ms/step - loss: 3.9296e-04 - val_loss: 3.8085e-04\n",
            "Epoch 97/100\n",
            "16/16 [==============================] - 1s 33ms/step - loss: 3.8720e-04 - val_loss: 3.7473e-04\n",
            "Epoch 98/100\n",
            "16/16 [==============================] - 0s 27ms/step - loss: 3.8074e-04 - val_loss: 3.6879e-04\n",
            "Epoch 99/100\n",
            "16/16 [==============================] - 0s 24ms/step - loss: 3.8972e-04 - val_loss: 3.7619e-04\n",
            "Epoch 100/100\n",
            "16/16 [==============================] - 0s 24ms/step - loss: 3.8077e-04 - val_loss: 3.6537e-04\n"
          ]
        },
        {
          "data": {
            "text/plain": [
              "<keras.src.callbacks.History at 0x1ac8a9cdb90>"
            ]
          },
          "execution_count": 12,
          "metadata": {},
          "output_type": "execute_result"
        }
      ],
      "source": [
        "# 9. Fit mô hình với dữ liệu train\n",
        "model.fit(X_train,y_train,validation_data=(X_test,y_test),epochs=100,batch_size=64,verbose=1)"
      ]
    },
    {
      "cell_type": "code",
      "execution_count": 13,
      "metadata": {
        "colab": {
          "base_uri": "https://localhost:8080/"
        },
        "id": "Rxx_KQSkQpBG",
        "outputId": "cf0fb697-d4e6-4c79-9af8-47462ffe5053"
      },
      "outputs": [
        {
          "name": "stdout",
          "output_type": "stream",
          "text": [
            "32/32 [==============================] - 2s 7ms/step\n",
            "8/8 [==============================] - 0s 7ms/step\n"
          ]
        }
      ],
      "source": [
        "# 10. Dự báo dữ liệu test\n",
        "train_predict=model.predict(X_train)\n",
        "y_pred=model.predict(X_test)\n"
      ]
    },
    {
      "cell_type": "code",
      "execution_count": 14,
      "metadata": {
        "id": "5rwTN10LQ7rj"
      },
      "outputs": [],
      "source": [
        "# 11. Chuẩn hóa dữ liệu y_pred, y_test\n",
        "train_predict=scaler.inverse_transform(train_predict)\n",
        "y_pred_=scaler.inverse_transform(y_pred)\n",
        "y_pred_new = scaler.inverse_transform(y_pred.reshape(1, -1))\n",
        "y_test_new = scaler.inverse_transform(np.array([y_test], dtype=np.float32))"
      ]
    },
    {
      "cell_type": "code",
      "execution_count": 15,
      "metadata": {
        "colab": {
          "base_uri": "https://localhost:8080/"
        },
        "id": "izQZ1iQyYl6N",
        "outputId": "d8643a60-72e4-4ce0-a746-5337af266a98"
      },
      "outputs": [],
      "source": [
        "# 12. Dự báo 30 ngày tiếp theo\n",
        "x_input = test_data[30:].reshape(1, -1)\n",
        "x_input.shape\n",
        "\n",
        "temp_input = list(x_input)\n",
        "temp_input = temp_input[0].tolist()\n",
        "\n",
        "from numpy import array\n",
        "\n",
        "lst_output_30 = []\n",
        "n_steps = 100\n",
        "i = 0\n",
        "\n",
        "while i < 30:\n",
        "    if len(temp_input) > 100:\n",
        "        # print(temp_input)\n",
        "        x_input = np.array(temp_input[-100:])  # Ensure x_input has exactly 100 elements\n",
        "        # print(\"{} day input {}\".format(i, x_input))\n",
        "        x_input = x_input.reshape(1, -1)\n",
        "        x_input = x_input.reshape((1, n_steps, 1))\n",
        "        # print(x_input)\n",
        "        yhat = model.predict(x_input, verbose=0)\n",
        "        # print(\"{} day output {}\".format(i, yhat))\n",
        "        temp_input.extend(yhat[0].tolist())\n",
        "        temp_input = temp_input[1:]\n",
        "        # print(temp_input)\n",
        "        lst_output_30.extend(yhat.tolist())\n",
        "        i = i + 1\n",
        "    else:\n",
        "        x_input = np.array(temp_input)  # Use the available elements\n",
        "        x_input = x_input.reshape((1, len(temp_input), 1))  # Reshape according to the actual length\n",
        "        yhat = model.predict(x_input, verbose=0)\n",
        "        # print(yhat[0])\n",
        "        temp_input.extend(yhat[0].tolist())\n",
        "        # print(len(temp_input))\n",
        "        lst_output_30.extend(yhat.tolist())\n",
        "        i = i + 1"
      ]
    },
    {
      "cell_type": "code",
      "execution_count": 16,
      "metadata": {},
      "outputs": [],
      "source": [
        "# 13. Dự báo 60 ngày tiếp theo \n",
        "\n",
        "x_input = test_data[60:].reshape(1, -1)\n",
        "x_input.shape\n",
        "\n",
        "temp_input = list(x_input)\n",
        "temp_input = temp_input[0].tolist()\n",
        "\n",
        "from numpy import array\n",
        "\n",
        "lst_output_60 = []\n",
        "n_steps = 100\n",
        "i = 0\n",
        "\n",
        "while i < 60:\n",
        "    if len(temp_input) > 100:\n",
        "        # print(temp_input)\n",
        "        x_input = np.array(temp_input[-100:])  # Ensure x_input has exactly 100 elements\n",
        "        # print(\"{} day input {}\".format(i, x_input))\n",
        "        x_input = x_input.reshape(1, -1)\n",
        "        x_input = x_input.reshape((1, n_steps, 1))\n",
        "        # print(x_input)\n",
        "        yhat = model.predict(x_input, verbose=0)\n",
        "        # print(\"{} day output {}\".format(i, yhat))\n",
        "        temp_input.extend(yhat[0].tolist())\n",
        "        temp_input = temp_input[1:]\n",
        "        # print(temp_input)\n",
        "        lst_output_60.extend(yhat.tolist())\n",
        "        i = i + 1\n",
        "    else:\n",
        "        x_input = np.array(temp_input)  # Use the available elements\n",
        "        x_input = x_input.reshape((1, len(temp_input), 1))  # Reshape according to the actual length\n",
        "        yhat = model.predict(x_input, verbose=0)\n",
        "        # print(yhat[0])\n",
        "        temp_input.extend(yhat[0].tolist())\n",
        "        # print(len(temp_input))\n",
        "        lst_output_60.extend(yhat.tolist())\n",
        "        i = i + 1"
      ]
    },
    {
      "cell_type": "code",
      "execution_count": 17,
      "metadata": {},
      "outputs": [],
      "source": [
        "# 14. Dự báo 90 ngày tiếp theo\n",
        "x_input = test_data[90:].reshape(1, -1)\n",
        "x_input.shape\n",
        "\n",
        "temp_input = list(x_input)\n",
        "temp_input = temp_input[0].tolist()\n",
        "\n",
        "from numpy import array\n",
        "\n",
        "lst_output_90 = []\n",
        "n_steps = 100\n",
        "i = 0\n",
        "\n",
        "while i < 90:\n",
        "    if len(temp_input) > 100:\n",
        "        # print(temp_input)\n",
        "        x_input = np.array(temp_input[-100:])  # Ensure x_input has exactly 100 elements\n",
        "        # print(\"{} day input {}\".format(i, x_input))\n",
        "        x_input = x_input.reshape(1, -1)\n",
        "        x_input = x_input.reshape((1, n_steps, 1))\n",
        "        # print(x_input)\n",
        "        yhat = model.predict(x_input, verbose=0)\n",
        "        # print(\"{} day output {}\".format(i, yhat))\n",
        "        temp_input.extend(yhat[0].tolist())\n",
        "        temp_input = temp_input[1:]\n",
        "        # print(temp_input)\n",
        "        lst_output_90.extend(yhat.tolist())\n",
        "        i = i + 1\n",
        "    else:\n",
        "        x_input = np.array(temp_input)  # Use the available elements\n",
        "        x_input = x_input.reshape((1, len(temp_input), 1))  # Reshape according to the actual length\n",
        "        yhat = model.predict(x_input, verbose=0)\n",
        "        # print(yhat[0])\n",
        "        temp_input.extend(yhat[0].tolist())\n",
        "        # print(len(temp_input))\n",
        "        lst_output_90.extend(yhat.tolist())\n",
        "        i = i + 1"
      ]
    },
    {
      "cell_type": "code",
      "execution_count": 18,
      "metadata": {},
      "outputs": [
        {
          "data": {
            "image/png": "[encoded data removed]",
            "text/plain": [
              "<Figure size 640x480 with 1 Axes>"
            ]
          },
          "metadata": {},
          "output_type": "display_data"
        }
      ],
      "source": [
        "# 15.Vẽ hình dự báo 90 ngày tiếp theo\n",
        "\n",
        "test_data_index = pd.RangeIndex(start=train_size, stop=train_size+test_size, step=1)\n",
        "plt.plot(test_data_index,scaler.inverse_transform(test_data))\n",
        "test_data_index = pd.RangeIndex(start=train_size+31, stop=train_size+test_size, step=1)\n",
        "plt.plot(test_data_index,(y_pred_))\n",
        "prediect_data_index = pd.RangeIndex(start=len(df1)-1, stop=len(df1)+89, step=1)\n",
        "plt.plot(prediect_data_index,scaler.inverse_transform(lst_output_90))\n",
        "prediect_data_index = pd.RangeIndex(start=len(df1)-1, stop=len(df1)+59, step=1)\n",
        "plt.plot(prediect_data_index,scaler.inverse_transform(lst_output_60))\n",
        "prediect_data_index = pd.RangeIndex(start=len(df1)-1, stop=len(df1)+29, step=1)\n",
        "plt.plot(prediect_data_index,scaler.inverse_transform(lst_output_30))\n",
        "plt.legend(['Test','Predict','Predict90days','Predict60days','Predict30days'])\n",
        "plt.show()"
      ]
    },
    {
      "cell_type": "code",
      "execution_count": 19,
      "metadata": {},
      "outputs": [
        {
          "name": "stdout",
          "output_type": "stream",
          "text": [
            "RMSE 412.81494\n",
            "MAPE 1.0227203369140625\n",
            "MAE: 252.8959\n"
          ]
        }
      ],
      "source": [
        "# 16.Đánh giá thuật toán\n",
        "\n",
        "# Tính toán RMSE, MAE và MAPE trên tập test\n",
        "test_score_rmse = np.sqrt(mean_squared_error(y_test_new, y_pred_new))\n",
        "test_score_mape = mean_absolute_percentage_error(y_test_new, y_pred_new) * 100\n",
        "\n",
        "print('RMSE', test_score_rmse)\n",
        "print('MAPE', test_score_mape)\n",
        "# Tính MAE (Mean Absolute Error)\n",
        "test_mae = np.mean(np.abs(y_test_new - y_pred_new))\n",
        "print('MAE:', test_mae)\n"
      ]
    }
  ],
  "metadata": {
    "colab": {
      "provenance": []
    },
    "kernelspec": {
      "display_name": "Python 3",
      "name": "python3"
    },
    "language_info": {
      "codemirror_mode": {
        "name": "ipython",
        "version": 3
      },
      "file_extension": ".py",
      "mimetype": "text/x-python",
      "name": "python",
      "nbconvert_exporter": "python",
      "pygments_lexer": "ipython3",
      "version": "3.11.3"
    }
  },
  "nbformat": 4,
  "nbformat_minor": 0
}
