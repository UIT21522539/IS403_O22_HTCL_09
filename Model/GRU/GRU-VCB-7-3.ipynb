{
  "cells": [
    {
      "cell_type": "code",
      "execution_count": 1,
      "metadata": {
        "colab": {
          "base_uri": "https://localhost:8080/"
        },
        "id": "FMDKda-XIUAK",
        "outputId": "83f83310-8d4b-4925-a7d3-764d810f45e1"
      },
      "outputs": [],
      "source": [
        "# 1. Import thư viện cần thiết\n",
        "import numpy as np\n",
        "import pandas as pd\n",
        "import matplotlib.pyplot as plt\n",
        "from sklearn.preprocessing import MinMaxScaler\n",
        "from keras.models import Sequential\n",
        "from keras.layers import Dense, GRU\n",
        "from sklearn.metrics import mean_squared_error, mean_absolute_percentage_error"
      ]
    },
    {
      "cell_type": "code",
      "execution_count": 2,
      "metadata": {
        "id": "aRm9GQ8KJJ5N"
      },
      "outputs": [],
      "source": [
        "# 2. Đọc file csv và gắng index với giá Close\n",
        "df = pd.read_csv('../../Dataset/VCB-Historical-Data_Group-9.csv')\n",
        "df1=df.reset_index()['Price']"
      ]
    },
    {
      "cell_type": "code",
      "execution_count": 3,
      "metadata": {},
      "outputs": [],
      "source": [
        "# 3. Chuyển các giá trị trong cột về number\n",
        "def convert_volume_to_number(volume_str):\n",
        "    if volume_str[-1] == 'K':\n",
        "        return int(float(volume_str[:-1]) * 1000)\n",
        "    elif volume_str[-1] == 'M':\n",
        "        return int(float(volume_str[:-1]) * 1000000)\n",
        "    elif volume_str[-1] == 'B':\n",
        "        return int(float(volume_str[:-1]) * 1000000000)\n",
        "    else:\n",
        "        return int(volume_str)\n",
        "    \n",
        "# Áp dụng hàm chuyển đổi cho cột \"Vol.\"\n",
        "df[\"Vol.\"] = df[\"Vol.\"].apply(convert_volume_to_number)\n",
        "\n",
        "# Hàm chuyển đổi \"Change %\" từ chuỗi sang số\n",
        "def convert_change_to_number(change_str):\n",
        "    new_change = float(change_str.strip('%')) / 100\n",
        "    return new_change\n",
        "\n",
        "# Áp dụng hàm chuyển đổi cho cột \"Change %\"\n",
        "df[\"Change %\"] = df[\"Change %\"].apply(convert_change_to_number)\n",
        "\n",
        "# Hàm chuyển giá từ chuỗi sang số\n",
        "def convert_str_to_number(str):\n",
        "    return float(str.replace(',', ''))\n",
        "\n",
        "# Áp dụng hàm chuyển đổi cho các cột giá trị\n",
        "df['Price'] = df['Price'].apply(convert_str_to_number)\n",
        "df['Open'] = df['Open'].apply(convert_str_to_number)\n",
        "df['High'] = df['High'].apply(convert_str_to_number)\n",
        "df['Low'] = df['Low'].apply(convert_str_to_number)"
      ]
    },
    {
      "cell_type": "code",
      "execution_count": 4,
      "metadata": {},
      "outputs": [],
      "source": [
        "df1=df.reset_index()['Price']"
      ]
    },
    {
      "cell_type": "code",
      "execution_count": 5,
      "metadata": {
        "id": "RdVpDho2JgL5"
      },
      "outputs": [],
      "source": [
        "# 3. Scaler data\n",
        "scaler=MinMaxScaler(feature_range=(0,1))\n",
        "df1=scaler.fit_transform(np.array(df1).reshape(-1,1))"
      ]
    },
    {
      "cell_type": "code",
      "execution_count": 6,
      "metadata": {
        "id": "B5JXpenzJoR3"
      },
      "outputs": [],
      "source": [
        "# 4. Chia train test\n",
        "train_size = int(0.7 * len(df1))\n",
        "test_size = len(df1) - train_size\n",
        "\n",
        "train_data = df1[:train_size]\n",
        "test_data = df1[train_size:train_size+test_size]"
      ]
    },
    {
      "cell_type": "code",
      "execution_count": 7,
      "metadata": {
        "id": "yJfmuBORLSfC"
      },
      "outputs": [],
      "source": [
        "# 5. Hàm Create Dataset\n",
        "import numpy\n",
        "# convert an array of values into a dataset matrix\n",
        "def create_dataset(dataset, time_step=1):\n",
        "\tdataX, dataY = [], []\n",
        "\tfor i in range(len(dataset)-time_step-1):\n",
        "\t\ta = dataset[i:(i+time_step), 0]   ###i=0, X=0,1,2,3-----99   Y=100 \n",
        "\t\tdataX.append(a)\n",
        "\t\tdataY.append(dataset[i + time_step, 0])\n",
        "\treturn numpy.array(dataX), numpy.array(dataY)"
      ]
    },
    {
      "cell_type": "code",
      "execution_count": 8,
      "metadata": {
        "id": "e81cKq03LXFB"
      },
      "outputs": [],
      "source": [
        "#6. Reshape into X=t,t+1,t+2..t+99 and Y=t+100\n",
        "\n",
        "time_step = 30\n",
        "X_train, y_train = create_dataset(train_data, time_step)\n",
        "X_test, y_test = create_dataset(test_data, time_step)"
      ]
    },
    {
      "cell_type": "code",
      "execution_count": 9,
      "metadata": {
        "id": "RdBVfku7O2qb"
      },
      "outputs": [],
      "source": [
        "# 7. Reshape input to be [samples, time steps, features] which is required for LSTM\n",
        "X_train =X_train.reshape(X_train.shape[0],X_train.shape[1] , 1)\n",
        "X_test = X_test.reshape(X_test.shape[0],X_test.shape[1] , 1)"
      ]
    },
    {
      "cell_type": "code",
      "execution_count": 10,
      "metadata": {
        "id": "sSfxrE7BO9vX"
      },
      "outputs": [],
      "source": [
        "# 8. Define GRU Model\n",
        "\n",
        "model = Sequential()\n",
        "model.add(GRU(64, input_shape=(time_step, 1)))\n",
        "model.add(Dense(1))\n",
        "model.compile(optimizer='adam', loss='mean_squared_error')"
      ]
    },
    {
      "cell_type": "code",
      "execution_count": 11,
      "metadata": {},
      "outputs": [
        {
          "name": "stdout",
          "output_type": "stream",
          "text": [
            "Model: \"sequential\"\n",
            "_________________________________________________________________\n",
            " Layer (type)                Output Shape              Param #   \n",
            "=================================================================\n",
            " gru (GRU)                   (None, 64)                12864     \n",
            "                                                                 \n",
            " dense (Dense)               (None, 1)                 65        \n",
            "                                                                 \n",
            "=================================================================\n",
            "Total params: 12929 (50.50 KB)\n",
            "Trainable params: 12929 (50.50 KB)\n",
            "Non-trainable params: 0 (0.00 Byte)\n",
            "_________________________________________________________________\n"
          ]
        }
      ],
      "source": [
        "model.summary()"
      ]
    },
    {
      "cell_type": "code",
      "execution_count": 12,
      "metadata": {
        "colab": {
          "base_uri": "https://localhost:8080/"
        },
        "id": "zgfeujZSPEKr",
        "outputId": "5479b5c5-22d1-4e02-8803-d6637b0f9e03"
      },
      "outputs": [
        {
          "name": "stdout",
          "output_type": "stream",
          "text": [
            "Epoch 1/100\n",
            "14/14 [==============================] - 25s 305ms/step - loss: 0.0834 - val_loss: 0.0041\n",
            "Epoch 2/100\n",
            "14/14 [==============================] - 1s 37ms/step - loss: 0.0139 - val_loss: 0.0153\n",
            "Epoch 3/100\n",
            "14/14 [==============================] - 1s 43ms/step - loss: 0.0065 - val_loss: 0.0196\n",
            "Epoch 4/100\n",
            "14/14 [==============================] - 1s 39ms/step - loss: 0.0045 - val_loss: 0.0056\n",
            "Epoch 5/100\n",
            "14/14 [==============================] - 1s 48ms/step - loss: 0.0036 - val_loss: 0.0074\n",
            "Epoch 6/100\n",
            "14/14 [==============================] - 0s 36ms/step - loss: 0.0026 - val_loss: 0.0036\n",
            "Epoch 7/100\n",
            "14/14 [==============================] - 1s 46ms/step - loss: 0.0020 - val_loss: 0.0030\n",
            "Epoch 8/100\n",
            "14/14 [==============================] - 1s 41ms/step - loss: 0.0015 - val_loss: 0.0015\n",
            "Epoch 9/100\n",
            "14/14 [==============================] - 1s 51ms/step - loss: 0.0013 - val_loss: 0.0010\n",
            "Epoch 10/100\n",
            "14/14 [==============================] - 1s 62ms/step - loss: 0.0012 - val_loss: 7.5714e-04\n",
            "Epoch 11/100\n",
            "14/14 [==============================] - 0s 35ms/step - loss: 0.0011 - val_loss: 7.8023e-04\n",
            "Epoch 12/100\n",
            "14/14 [==============================] - 1s 42ms/step - loss: 0.0011 - val_loss: 6.5406e-04\n",
            "Epoch 13/100\n",
            "14/14 [==============================] - 1s 43ms/step - loss: 0.0011 - val_loss: 6.4182e-04\n",
            "Epoch 14/100\n",
            "14/14 [==============================] - 0s 33ms/step - loss: 0.0010 - val_loss: 7.6462e-04\n",
            "Epoch 15/100\n",
            "14/14 [==============================] - 1s 78ms/step - loss: 0.0010 - val_loss: 6.6115e-04\n",
            "Epoch 16/100\n",
            "14/14 [==============================] - 1s 48ms/step - loss: 9.8999e-04 - val_loss: 6.1842e-04\n",
            "Epoch 17/100\n",
            "14/14 [==============================] - 1s 66ms/step - loss: 9.7555e-04 - val_loss: 6.0126e-04\n",
            "Epoch 18/100\n",
            "14/14 [==============================] - 1s 52ms/step - loss: 9.5709e-04 - val_loss: 6.6053e-04\n",
            "Epoch 19/100\n",
            "14/14 [==============================] - 1s 42ms/step - loss: 9.4400e-04 - val_loss: 7.0698e-04\n",
            "Epoch 20/100\n",
            "14/14 [==============================] - 1s 38ms/step - loss: 9.4251e-04 - val_loss: 6.0477e-04\n",
            "Epoch 21/100\n",
            "14/14 [==============================] - 0s 35ms/step - loss: 9.1698e-04 - val_loss: 5.7183e-04\n",
            "Epoch 22/100\n",
            "14/14 [==============================] - 1s 42ms/step - loss: 8.9944e-04 - val_loss: 6.6024e-04\n",
            "Epoch 23/100\n",
            "14/14 [==============================] - 1s 43ms/step - loss: 9.1057e-04 - val_loss: 6.9701e-04\n",
            "Epoch 24/100\n",
            "14/14 [==============================] - 0s 32ms/step - loss: 8.8829e-04 - val_loss: 6.3710e-04\n",
            "Epoch 25/100\n",
            "14/14 [==============================] - 0s 33ms/step - loss: 8.6994e-04 - val_loss: 5.5273e-04\n",
            "Epoch 26/100\n",
            "14/14 [==============================] - 1s 42ms/step - loss: 8.6740e-04 - val_loss: 5.5314e-04\n",
            "Epoch 27/100\n",
            "14/14 [==============================] - 0s 33ms/step - loss: 8.5340e-04 - val_loss: 5.4103e-04\n",
            "Epoch 28/100\n",
            "14/14 [==============================] - 0s 35ms/step - loss: 8.4584e-04 - val_loss: 5.7556e-04\n",
            "Epoch 29/100\n",
            "14/14 [==============================] - 0s 30ms/step - loss: 8.3785e-04 - val_loss: 7.6587e-04\n",
            "Epoch 30/100\n",
            "14/14 [==============================] - 0s 36ms/step - loss: 8.5283e-04 - val_loss: 5.9729e-04\n",
            "Epoch 31/100\n",
            "14/14 [==============================] - 1s 46ms/step - loss: 8.1553e-04 - val_loss: 5.2855e-04\n",
            "Epoch 32/100\n",
            "14/14 [==============================] - 0s 33ms/step - loss: 8.1260e-04 - val_loss: 5.1334e-04\n",
            "Epoch 33/100\n",
            "14/14 [==============================] - 0s 36ms/step - loss: 8.1346e-04 - val_loss: 5.1209e-04\n",
            "Epoch 34/100\n",
            "14/14 [==============================] - 0s 32ms/step - loss: 8.0049e-04 - val_loss: 5.1223e-04\n",
            "Epoch 35/100\n",
            "14/14 [==============================] - 0s 33ms/step - loss: 7.9747e-04 - val_loss: 5.1622e-04\n",
            "Epoch 36/100\n",
            "14/14 [==============================] - 1s 37ms/step - loss: 7.8714e-04 - val_loss: 5.0168e-04\n",
            "Epoch 37/100\n",
            "14/14 [==============================] - 0s 32ms/step - loss: 7.9521e-04 - val_loss: 4.9837e-04\n",
            "Epoch 38/100\n",
            "14/14 [==============================] - 1s 39ms/step - loss: 7.8072e-04 - val_loss: 4.9726e-04\n",
            "Epoch 39/100\n",
            "14/14 [==============================] - 1s 37ms/step - loss: 7.6414e-04 - val_loss: 5.5585e-04\n",
            "Epoch 40/100\n",
            "14/14 [==============================] - 0s 34ms/step - loss: 7.6314e-04 - val_loss: 5.2982e-04\n",
            "Epoch 41/100\n",
            "14/14 [==============================] - 0s 31ms/step - loss: 7.6185e-04 - val_loss: 4.9020e-04\n",
            "Epoch 42/100\n",
            "14/14 [==============================] - 0s 34ms/step - loss: 7.6147e-04 - val_loss: 4.9738e-04\n",
            "Epoch 43/100\n",
            "14/14 [==============================] - 0s 29ms/step - loss: 7.4412e-04 - val_loss: 4.8428e-04\n",
            "Epoch 44/100\n",
            "14/14 [==============================] - 1s 40ms/step - loss: 7.4580e-04 - val_loss: 5.5902e-04\n",
            "Epoch 45/100\n",
            "14/14 [==============================] - 1s 41ms/step - loss: 7.3755e-04 - val_loss: 4.9331e-04\n",
            "Epoch 46/100\n",
            "14/14 [==============================] - 1s 45ms/step - loss: 7.3586e-04 - val_loss: 6.2839e-04\n",
            "Epoch 47/100\n",
            "14/14 [==============================] - 1s 37ms/step - loss: 7.2795e-04 - val_loss: 5.9239e-04\n",
            "Epoch 48/100\n",
            "14/14 [==============================] - 1s 68ms/step - loss: 7.3277e-04 - val_loss: 5.5532e-04\n",
            "Epoch 49/100\n",
            "14/14 [==============================] - 1s 43ms/step - loss: 7.2456e-04 - val_loss: 4.8999e-04\n",
            "Epoch 50/100\n",
            "14/14 [==============================] - 1s 40ms/step - loss: 7.2309e-04 - val_loss: 4.7735e-04\n",
            "Epoch 51/100\n",
            "14/14 [==============================] - 1s 47ms/step - loss: 7.1377e-04 - val_loss: 4.7832e-04\n",
            "Epoch 52/100\n",
            "14/14 [==============================] - 0s 35ms/step - loss: 7.2275e-04 - val_loss: 4.7857e-04\n",
            "Epoch 53/100\n",
            "14/14 [==============================] - 1s 46ms/step - loss: 7.1641e-04 - val_loss: 5.4030e-04\n",
            "Epoch 54/100\n",
            "14/14 [==============================] - 1s 49ms/step - loss: 7.0736e-04 - val_loss: 5.1163e-04\n",
            "Epoch 55/100\n",
            "14/14 [==============================] - 0s 35ms/step - loss: 7.0754e-04 - val_loss: 4.7033e-04\n",
            "Epoch 56/100\n",
            "14/14 [==============================] - 1s 41ms/step - loss: 7.0216e-04 - val_loss: 4.7483e-04\n",
            "Epoch 57/100\n",
            "14/14 [==============================] - 1s 40ms/step - loss: 7.0730e-04 - val_loss: 4.6668e-04\n",
            "Epoch 58/100\n",
            "14/14 [==============================] - 1s 45ms/step - loss: 7.2606e-04 - val_loss: 5.0834e-04\n",
            "Epoch 59/100\n",
            "14/14 [==============================] - 1s 42ms/step - loss: 7.1434e-04 - val_loss: 5.2702e-04\n",
            "Epoch 60/100\n",
            "14/14 [==============================] - 1s 41ms/step - loss: 6.9735e-04 - val_loss: 5.8650e-04\n",
            "Epoch 61/100\n",
            "14/14 [==============================] - 0s 34ms/step - loss: 6.9365e-04 - val_loss: 7.7303e-04\n",
            "Epoch 62/100\n",
            "14/14 [==============================] - 0s 36ms/step - loss: 7.2236e-04 - val_loss: 7.1901e-04\n",
            "Epoch 63/100\n",
            "14/14 [==============================] - 1s 39ms/step - loss: 7.1511e-04 - val_loss: 4.8755e-04\n",
            "Epoch 64/100\n",
            "14/14 [==============================] - 1s 40ms/step - loss: 6.9332e-04 - val_loss: 5.6072e-04\n",
            "Epoch 65/100\n",
            "14/14 [==============================] - 0s 34ms/step - loss: 6.8795e-04 - val_loss: 5.1767e-04\n",
            "Epoch 66/100\n",
            "14/14 [==============================] - 0s 33ms/step - loss: 6.8787e-04 - val_loss: 5.3863e-04\n",
            "Epoch 67/100\n",
            "14/14 [==============================] - 0s 34ms/step - loss: 6.9981e-04 - val_loss: 4.6033e-04\n",
            "Epoch 68/100\n",
            "14/14 [==============================] - 0s 35ms/step - loss: 6.7299e-04 - val_loss: 4.9281e-04\n",
            "Epoch 69/100\n",
            "14/14 [==============================] - 0s 36ms/step - loss: 6.8713e-04 - val_loss: 4.6676e-04\n",
            "Epoch 70/100\n",
            "14/14 [==============================] - 0s 32ms/step - loss: 6.8789e-04 - val_loss: 4.6831e-04\n",
            "Epoch 71/100\n",
            "14/14 [==============================] - 1s 42ms/step - loss: 6.8245e-04 - val_loss: 4.5717e-04\n",
            "Epoch 72/100\n",
            "14/14 [==============================] - 0s 35ms/step - loss: 6.9795e-04 - val_loss: 5.9787e-04\n",
            "Epoch 73/100\n",
            "14/14 [==============================] - 1s 62ms/step - loss: 7.1131e-04 - val_loss: 7.3977e-04\n",
            "Epoch 74/100\n",
            "14/14 [==============================] - 1s 48ms/step - loss: 6.7633e-04 - val_loss: 4.9286e-04\n",
            "Epoch 75/100\n",
            "14/14 [==============================] - 1s 39ms/step - loss: 6.6692e-04 - val_loss: 4.5778e-04\n",
            "Epoch 76/100\n",
            "14/14 [==============================] - 1s 39ms/step - loss: 6.6868e-04 - val_loss: 4.8279e-04\n",
            "Epoch 77/100\n",
            "14/14 [==============================] - 1s 45ms/step - loss: 6.7705e-04 - val_loss: 4.5639e-04\n",
            "Epoch 78/100\n",
            "14/14 [==============================] - 0s 32ms/step - loss: 6.6046e-04 - val_loss: 4.7760e-04\n",
            "Epoch 79/100\n",
            "14/14 [==============================] - 0s 34ms/step - loss: 6.5162e-04 - val_loss: 4.7396e-04\n",
            "Epoch 80/100\n",
            "14/14 [==============================] - 1s 49ms/step - loss: 6.6949e-04 - val_loss: 5.5533e-04\n",
            "Epoch 81/100\n",
            "14/14 [==============================] - 0s 36ms/step - loss: 6.7800e-04 - val_loss: 7.6753e-04\n",
            "Epoch 82/100\n",
            "14/14 [==============================] - 0s 35ms/step - loss: 6.9987e-04 - val_loss: 6.9477e-04\n",
            "Epoch 83/100\n",
            "14/14 [==============================] - 1s 38ms/step - loss: 6.9550e-04 - val_loss: 4.5730e-04\n",
            "Epoch 84/100\n",
            "14/14 [==============================] - 0s 37ms/step - loss: 6.6737e-04 - val_loss: 4.5474e-04\n",
            "Epoch 85/100\n",
            "14/14 [==============================] - 0s 36ms/step - loss: 6.5277e-04 - val_loss: 4.4906e-04\n",
            "Epoch 86/100\n",
            "14/14 [==============================] - 0s 32ms/step - loss: 6.6741e-04 - val_loss: 4.4825e-04\n",
            "Epoch 87/100\n",
            "14/14 [==============================] - 0s 35ms/step - loss: 6.3971e-04 - val_loss: 4.4698e-04\n",
            "Epoch 88/100\n",
            "14/14 [==============================] - 0s 36ms/step - loss: 6.4966e-04 - val_loss: 4.4917e-04\n",
            "Epoch 89/100\n",
            "14/14 [==============================] - 1s 52ms/step - loss: 6.5380e-04 - val_loss: 4.5192e-04\n",
            "Epoch 90/100\n",
            "14/14 [==============================] - 0s 35ms/step - loss: 6.4067e-04 - val_loss: 4.6875e-04\n",
            "Epoch 91/100\n",
            "14/14 [==============================] - 0s 32ms/step - loss: 6.4040e-04 - val_loss: 5.5689e-04\n",
            "Epoch 92/100\n",
            "14/14 [==============================] - 0s 32ms/step - loss: 6.4319e-04 - val_loss: 4.5136e-04\n",
            "Epoch 93/100\n",
            "14/14 [==============================] - 0s 33ms/step - loss: 6.3768e-04 - val_loss: 5.3057e-04\n",
            "Epoch 94/100\n",
            "14/14 [==============================] - 0s 35ms/step - loss: 6.3903e-04 - val_loss: 4.5734e-04\n",
            "Epoch 95/100\n",
            "14/14 [==============================] - 0s 36ms/step - loss: 6.3889e-04 - val_loss: 5.2334e-04\n",
            "Epoch 96/100\n",
            "14/14 [==============================] - 1s 37ms/step - loss: 6.4200e-04 - val_loss: 5.7548e-04\n",
            "Epoch 97/100\n",
            "14/14 [==============================] - 1s 37ms/step - loss: 6.4690e-04 - val_loss: 5.3002e-04\n",
            "Epoch 98/100\n",
            "14/14 [==============================] - 1s 41ms/step - loss: 6.3196e-04 - val_loss: 4.5851e-04\n",
            "Epoch 99/100\n",
            "14/14 [==============================] - 0s 34ms/step - loss: 6.4072e-04 - val_loss: 4.4930e-04\n",
            "Epoch 100/100\n",
            "14/14 [==============================] - 0s 34ms/step - loss: 6.3039e-04 - val_loss: 4.7410e-04\n"
          ]
        },
        {
          "data": {
            "text/plain": [
              "<keras.src.callbacks.History at 0x20d43fd3e10>"
            ]
          },
          "execution_count": 12,
          "metadata": {},
          "output_type": "execute_result"
        }
      ],
      "source": [
        "# 9. Fit mô hình với dữ liệu train\n",
        "model.fit(X_train,y_train,validation_data=(X_test,y_test),epochs=100,batch_size=64,verbose=1)"
      ]
    },
    {
      "cell_type": "code",
      "execution_count": 13,
      "metadata": {
        "colab": {
          "base_uri": "https://localhost:8080/"
        },
        "id": "Rxx_KQSkQpBG",
        "outputId": "cf0fb697-d4e6-4c79-9af8-47462ffe5053"
      },
      "outputs": [
        {
          "name": "stdout",
          "output_type": "stream",
          "text": [
            "28/28 [==============================] - 3s 7ms/step\n",
            "12/12 [==============================] - 0s 7ms/step\n"
          ]
        }
      ],
      "source": [
        "# 10. Dự báo dữ liệu test\n",
        "train_predict=model.predict(X_train)\n",
        "y_pred=model.predict(X_test)\n"
      ]
    },
    {
      "cell_type": "code",
      "execution_count": 14,
      "metadata": {
        "id": "5rwTN10LQ7rj"
      },
      "outputs": [],
      "source": [
        "# 11. Chuẩn hóa dữ liệu y_pred, y_test\n",
        "train_predict=scaler.inverse_transform(train_predict)\n",
        "y_pred_=scaler.inverse_transform(y_pred)\n",
        "y_pred_new = scaler.inverse_transform(y_pred.reshape(1, -1))\n",
        "y_test_new = scaler.inverse_transform(np.array([y_test], dtype=np.float32))"
      ]
    },
    {
      "cell_type": "code",
      "execution_count": 15,
      "metadata": {
        "colab": {
          "base_uri": "https://localhost:8080/"
        },
        "id": "izQZ1iQyYl6N",
        "outputId": "d8643a60-72e4-4ce0-a746-5337af266a98"
      },
      "outputs": [],
      "source": [
        "# 12. Dự báo 30 ngày tiếp theo\n",
        "x_input = test_data[30:].reshape(1, -1)\n",
        "x_input.shape\n",
        "\n",
        "temp_input = list(x_input)\n",
        "temp_input = temp_input[0].tolist()\n",
        "\n",
        "from numpy import array\n",
        "\n",
        "lst_output_30 = []\n",
        "n_steps = 100\n",
        "i = 0\n",
        "\n",
        "while i < 30:\n",
        "    if len(temp_input) > 100:\n",
        "        # print(temp_input)\n",
        "        x_input = np.array(temp_input[-100:])  # Ensure x_input has exactly 100 elements\n",
        "        # print(\"{} day input {}\".format(i, x_input))\n",
        "        x_input = x_input.reshape(1, -1)\n",
        "        x_input = x_input.reshape((1, n_steps, 1))\n",
        "        # print(x_input)\n",
        "        yhat = model.predict(x_input, verbose=0)\n",
        "        # print(\"{} day output {}\".format(i, yhat))\n",
        "        temp_input.extend(yhat[0].tolist())\n",
        "        temp_input = temp_input[1:]\n",
        "        # print(temp_input)\n",
        "        lst_output_30.extend(yhat.tolist())\n",
        "        i = i + 1\n",
        "    else:\n",
        "        x_input = np.array(temp_input)  # Use the available elements\n",
        "        x_input = x_input.reshape((1, len(temp_input), 1))  # Reshape according to the actual length\n",
        "        yhat = model.predict(x_input, verbose=0)\n",
        "        # print(yhat[0])\n",
        "        temp_input.extend(yhat[0].tolist())\n",
        "        # print(len(temp_input))\n",
        "        lst_output_30.extend(yhat.tolist())\n",
        "        i = i + 1"
      ]
    },
    {
      "cell_type": "code",
      "execution_count": 16,
      "metadata": {},
      "outputs": [],
      "source": [
        "# 13. Dự báo 60 ngày tiếp theo \n",
        "\n",
        "x_input = test_data[60:].reshape(1, -1)\n",
        "x_input.shape\n",
        "\n",
        "temp_input = list(x_input)\n",
        "temp_input = temp_input[0].tolist()\n",
        "\n",
        "from numpy import array\n",
        "\n",
        "lst_output_60 = []\n",
        "n_steps = 100\n",
        "i = 0\n",
        "\n",
        "while i < 60:\n",
        "    if len(temp_input) > 100:\n",
        "        # print(temp_input)\n",
        "        x_input = np.array(temp_input[-100:])  # Ensure x_input has exactly 100 elements\n",
        "        # print(\"{} day input {}\".format(i, x_input))\n",
        "        x_input = x_input.reshape(1, -1)\n",
        "        x_input = x_input.reshape((1, n_steps, 1))\n",
        "        # print(x_input)\n",
        "        yhat = model.predict(x_input, verbose=0)\n",
        "        # print(\"{} day output {}\".format(i, yhat))\n",
        "        temp_input.extend(yhat[0].tolist())\n",
        "        temp_input = temp_input[1:]\n",
        "        # print(temp_input)\n",
        "        lst_output_60.extend(yhat.tolist())\n",
        "        i = i + 1\n",
        "    else:\n",
        "        x_input = np.array(temp_input)  # Use the available elements\n",
        "        x_input = x_input.reshape((1, len(temp_input), 1))  # Reshape according to the actual length\n",
        "        yhat = model.predict(x_input, verbose=0)\n",
        "        # print(yhat[0])\n",
        "        temp_input.extend(yhat[0].tolist())\n",
        "        # print(len(temp_input))\n",
        "        lst_output_60.extend(yhat.tolist())\n",
        "        i = i + 1"
      ]
    },
    {
      "cell_type": "code",
      "execution_count": 17,
      "metadata": {},
      "outputs": [],
      "source": [
        "# 14. Dự báo 90 ngày tiếp theo\n",
        "x_input = test_data[90:].reshape(1, -1)\n",
        "x_input.shape\n",
        "\n",
        "temp_input = list(x_input)\n",
        "temp_input = temp_input[0].tolist()\n",
        "\n",
        "from numpy import array\n",
        "\n",
        "lst_output_90 = []\n",
        "n_steps = 100\n",
        "i = 0\n",
        "\n",
        "while i < 90:\n",
        "    if len(temp_input) > 100:\n",
        "        # print(temp_input)\n",
        "        x_input = np.array(temp_input[-100:])  # Ensure x_input has exactly 100 elements\n",
        "        # print(\"{} day input {}\".format(i, x_input))\n",
        "        x_input = x_input.reshape(1, -1)\n",
        "        x_input = x_input.reshape((1, n_steps, 1))\n",
        "        # print(x_input)\n",
        "        yhat = model.predict(x_input, verbose=0)\n",
        "        # print(\"{} day output {}\".format(i, yhat))\n",
        "        temp_input.extend(yhat[0].tolist())\n",
        "        temp_input = temp_input[1:]\n",
        "        # print(temp_input)\n",
        "        lst_output_90.extend(yhat.tolist())\n",
        "        i = i + 1\n",
        "    else:\n",
        "        x_input = np.array(temp_input)  # Use the available elements\n",
        "        x_input = x_input.reshape((1, len(temp_input), 1))  # Reshape according to the actual length\n",
        "        yhat = model.predict(x_input, verbose=0)\n",
        "        # print(yhat[0])\n",
        "        temp_input.extend(yhat[0].tolist())\n",
        "        # print(len(temp_input))\n",
        "        lst_output_90.extend(yhat.tolist())\n",
        "        i = i + 1"
      ]
    },
    {
      "cell_type": "code",
      "execution_count": 18,
      "metadata": {},
      "outputs": [
        {
          "data": {
            "image/png": "[encoded data removed]",
            "text/plain": [
              "<Figure size 640x480 with 1 Axes>"
            ]
          },
          "metadata": {},
          "output_type": "display_data"
        }
      ],
      "source": [
        "# 15.Vẽ hình dự báo 90 ngày tiếp theo\n",
        "\n",
        "test_data_index = pd.RangeIndex(start=train_size, stop=train_size+test_size, step=1)\n",
        "plt.plot(test_data_index,scaler.inverse_transform(test_data))\n",
        "test_data_index = pd.RangeIndex(start=train_size+31, stop=train_size+test_size, step=1)\n",
        "plt.plot(test_data_index,(y_pred_))\n",
        "prediect_data_index = pd.RangeIndex(start=len(df1)-1, stop=len(df1)+89, step=1)\n",
        "plt.plot(prediect_data_index,scaler.inverse_transform(lst_output_90))\n",
        "prediect_data_index = pd.RangeIndex(start=len(df1)-1, stop=len(df1)+59, step=1)\n",
        "plt.plot(prediect_data_index,scaler.inverse_transform(lst_output_60))\n",
        "prediect_data_index = pd.RangeIndex(start=len(df1)-1, stop=len(df1)+29, step=1)\n",
        "plt.plot(prediect_data_index,scaler.inverse_transform(lst_output_30))\n",
        "plt.legend(['Test','Predict','Predict90days','Predict60days','Predict30days'])\n",
        "plt.show()"
      ]
    },
    {
      "cell_type": "code",
      "execution_count": 19,
      "metadata": {},
      "outputs": [
        {
          "name": "stdout",
          "output_type": "stream",
          "text": [
            "RMSE 1164.359\n",
            "MAPE 1.017458550632\n",
            "MAE: 857.2915\n"
          ]
        }
      ],
      "source": [
        "# 16.Đánh giá thuật toán\n",
        "\n",
        "# Tính toán RMSE, MAE và MAPE trên tập test\n",
        "test_score_rmse = np.sqrt(mean_squared_error(y_test_new, y_pred_new))\n",
        "test_score_mape = mean_absolute_percentage_error(y_test_new, y_pred_new) * 100\n",
        "\n",
        "print('RMSE', test_score_rmse)\n",
        "print('MAPE', test_score_mape)\n",
        "# Tính MAE (Mean Absolute Error)\n",
        "test_mae = np.mean(np.abs(y_test_new - y_pred_new))\n",
        "print('MAE:', test_mae)\n"
      ]
    }
  ],
  "metadata": {
    "colab": {
      "provenance": []
    },
    "kernelspec": {
      "display_name": "Python 3",
      "name": "python3"
    },
    "language_info": {
      "codemirror_mode": {
        "name": "ipython",
        "version": 3
      },
      "file_extension": ".py",
      "mimetype": "text/x-python",
      "name": "python",
      "nbconvert_exporter": "python",
      "pygments_lexer": "ipython3",
      "version": "3.11.3"
    }
  },
  "nbformat": 4,
  "nbformat_minor": 0
}
